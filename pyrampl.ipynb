{
  "cells": [
    {
      "cell_type": "markdown",
      "metadata": {
        "id": "view-in-github",
        "colab_type": "text"
      },
      "source": [
        "<a href=\"https://colab.research.google.com/github/samyzaf/pycirc/blob/main/pyrampl.ipynb\" target=\"_parent\"><img src=\"https://colab.research.google.com/assets/colab-badge.svg\" alt=\"Open In Colab\"/></a>"
      ]
    },
    {
      "cell_type": "markdown",
      "metadata": {
        "id": "ASc0nYpw6D40"
      },
      "source": [
        "# <font face=\"Arial\" size=6> PyRamPL - Python Random Access Machine Programming Language </font>\n",
        "\n",
        "* <a href=\"https://github.com/samyzaf/pycirc/blob/main/pyrampl.ipynb\">\n",
        "Link to the the Google Colaboratory notebook\n",
        "</a>\n",
        "\n",
        "  * The Google Colaboratory notebook has the advantage\n",
        "     that you can run PyRamPl code from it without having to\n",
        "     install PyRamPL or even Python on your local system.\n",
        "  * You first need to copy it to your google drive\n",
        "  * You can also download it to your local device and open it as\n",
        "     a Jupyter notebook (if you have it installed with your Python)."
      ]
    },
    {
      "cell_type": "markdown",
      "metadata": {
        "id": "re0JUU526D47"
      },
      "source": [
        "## Installing the PyRamPL package\n",
        "* The **PyRamPL** package can be installed on your local system by running the following command from the command line\n",
        "```\n",
        "pip install pyrampl\n",
        "```\n",
        "* Or you may try running one of the following commands from this notebook.\n",
        "* If you are running it from a Jupyter notebook on your local system, then it will be installed on your device.  "
      ]
    },
    {
      "cell_type": "code",
      "execution_count": 1,
      "metadata": {
        "colab": {
          "base_uri": "https://localhost:8080/"
        },
        "id": "H8Trabf46D47",
        "outputId": "01e2e144-0ab4-44da-d060-c7bb9856b15f"
      },
      "outputs": [
        {
          "output_type": "stream",
          "name": "stdout",
          "text": [
            "Looking in indexes: https://pypi.org/simple, https://us-python.pkg.dev/colab-wheels/public/simple/\n",
            "Collecting pyrampl\n",
            "  Downloading pyrampl-1.3.tar.gz (4.4 kB)\n",
            "Building wheels for collected packages: pyrampl\n",
            "  Building wheel for pyrampl (setup.py) ... \u001b[?25l\u001b[?25hdone\n",
            "  Created wheel for pyrampl: filename=pyrampl-1.3-py3-none-any.whl size=4335 sha256=e2c174609f1f1cc4e7008036208f8eb3274632acc836443b949d6981a4b547b7\n",
            "  Stored in directory: /root/.cache/pip/wheels/81/c3/da/6e2d2bc4c5b11528b3d4525bdac455cab32a6e753599d46f36\n",
            "Successfully built pyrampl\n",
            "Installing collected packages: pyrampl\n",
            "Successfully installed pyrampl-1.3\n"
          ]
        }
      ],
      "source": [
        "# To install from this notebook, run this cell.\n",
        "%pip install pyrampl\n",
        "# This should also work:\n",
        "#!pip install --upgrade pyrampl\n",
        "\n",
        "# After installation, you have to restart this notebook.\n",
        "# Make sure to comment the %pip or !pip lines above to avoid reinstall each time you run this notebook.\n",
        "\n",
        "# To uninstall the package use:\n",
        "#%pip uninstall pyrampl\n",
        "# or\n",
        "#!pip uninstall pyrampl"
      ]
    },
    {
      "cell_type": "markdown",
      "metadata": {
        "id": "5hIXG9SE6D48"
      },
      "source": [
        "* **After installation, you may need to restart this notebook.**"
      ]
    },
    {
      "cell_type": "markdown",
      "metadata": {
        "id": "kD35YCtJ6D4-"
      },
      "source": [
        "## Introduction\n",
        "\n",
        "* **PyRamPL** is a simple Python package for simulating\n",
        "  Random Access Memory Machine programs within the context of an introductory course on computational models.\n",
        "* It is a lightweight package especially designed for\n",
        "  small RAM programs, such as those that are presented\n",
        "  in introductory academic courses on the theory of computation.\n",
        "* It can be a useful companion for theoretical courses on\n",
        "  computation models and languages who wish also to engage\n",
        "  the students with some programming experience and skills.\n",
        "  * It was designed to be used in such a course by the author\n",
        "    (Hebrew book at http://samyzaf.com/afl.pdf).\n",
        "  * It enables students to easily experiment with RAM programs for their exercises,\n",
        "    and to test correctness of their solutions.\n",
        "* It also provide an opportunity for students to get a taste of how programming looks like\n",
        "  while learning theoretical computation course.\n",
        "* There are many different definitions of a RAM machine in the literature but from an educational\n",
        "  perspective most of them are adequate for presenting a computational model resembling a modern computer system\n",
        "  and its associated assembly programming language.\n",
        "* WARNING! Our current very **early version of PyRamPL** is not yet\n",
        "  making good syntactical checks, so make sure to write your\n",
        "  RAM programs correctly or else you will not get any meaningful feedback!\n",
        "  Since RAM programs have a very simple syntax we do not expect this to be a real problem.\n",
        "\n",
        "  <IMG src=\"https://samyzaf.com/afl/figs/ram1.jpg\" width=600 align=\"center\"/>\n"
      ]
    },
    {
      "cell_type": "markdown",
      "metadata": {
        "id": "Dx-Ax1MDAGRb"
      },
      "source": [
        "## RAM machine program syntax\n",
        "\n",
        "<font size=\"2\">\n",
        "\n",
        "|Instruction &nbsp;&nbsp; | Description |\n",
        "| :------ | :---------- |\n",
        "| $a=b$       | load register $b$ to register $a$|\n",
        "| $a=i$       | Load integer $i$ to register $a$|\n",
        "| $a = b+c$   | Add $b$ and $c$ and store the result in $a$|\n",
        "| $a=b-c$     | Subtraction |\n",
        "| $a = b * c$ | Multiplication |\n",
        "| JUMP(i)     | Jump to instruction i (PC = i)|\n",
        "| JZERO(r, i)  | If $r=0$ jump to command i|\n",
        "| JPOS(r, i)  | If $r>0$ jump to command i|\n",
        "| JE(a, b, i) | If $a=b$ jump to command i|\n",
        "| HALT        | Stop the program |\n",
        "    \n",
        "</font>\n",
        "\n",
        "## Example1: DIVMOD program\n",
        "The following RAM program computes the integer quotient\n",
        "  and a remainder ($y_1$ and $y_2$)\n",
        "  after dividing $x_1$ by $x_2$\n",
        "```\n",
        "PROGRAM DIVMOD(x1, x2 : y1, y2)\n",
        "    1. r1 = x1\n",
        "    2. r2 = x2\n",
        "    3. r0 = r2 - r1\n",
        "    4. JPOS(r0, 8)\n",
        "    5. r3 = r3 + 1\n",
        "    6. r1 = r1 - r2\n",
        "    7. JUMP(3)\n",
        "    8. y1 = r3\n",
        "    9. y2 = r1\n",
        "    10. HALT\n",
        "\n",
        "```\n"
      ]
    },
    {
      "cell_type": "markdown",
      "metadata": {
        "id": "MQxUi3J1J_ag"
      },
      "source": [
        "* The common practice is to build a **Flow Diagram** for your algorithm\n",
        "  before you actually write the RAM program.\n",
        "* In the following flow diagram for `DIVMOD` we have also added\n",
        "  command labels that correspond to the RAM code (these are normally\n",
        "  not part of a flow diagram) to make it easier to comprehend the\n",
        "  RAM program.\n",
        "\n",
        "<IMG src=\"https://samyzaf.com/afl/figs/ram4.jpg\" width=500 align=\"center\"/>"
      ]
    },
    {
      "cell_type": "markdown",
      "metadata": {
        "id": "rlDvlU9I6D48"
      },
      "source": [
        "## Loading the PyRamPL package\n",
        "* After installing the **PyRamPl** package, you need to import\n",
        "  it.  \n",
        "* The following command imports **PyRamPl** to your Python interpreter.\n",
        "* We have also imported a few IPython display utilities for displaying\n",
        "  Markdown and LaTeX tables."
      ]
    },
    {
      "cell_type": "code",
      "execution_count": 2,
      "metadata": {
        "id": "ZaIr21bT6D49"
      },
      "outputs": [],
      "source": [
        "from pyrampl import *\n",
        "from IPython.display import display, Markdown, Latex"
      ]
    },
    {
      "cell_type": "code",
      "execution_count": 3,
      "metadata": {
        "id": "bK2muCq_Ij9f"
      },
      "outputs": [],
      "source": [
        "code = \"\"\"\n",
        "PROGRAM DIVMOD(x1, x2 : y1, y2)\n",
        "    1. r1 = x1\n",
        "    2. r2 = x2\n",
        "    3. r0 = r2 - r1\n",
        "    4. JPOS(r0, 8)\n",
        "    5. r3 = r3 + 1\n",
        "    6. r1 = r1 - r2\n",
        "    7. JUMP(3)\n",
        "    8. y1 = r3\n",
        "    9. y2 = r1\n",
        "    10. HALT\n",
        "\"\"\""
      ]
    },
    {
      "cell_type": "code",
      "execution_count": 4,
      "metadata": {
        "id": "CjuZY24hI4Zg"
      },
      "outputs": [],
      "source": [
        "DIVMOD = Ram(\"DIVMOD\", code)"
      ]
    },
    {
      "cell_type": "code",
      "execution_count": 5,
      "metadata": {
        "colab": {
          "base_uri": "https://localhost:8080/"
        },
        "id": "XmYGfYc3JYlf",
        "outputId": "8155c61c-ee11-461c-db33-df336f481562"
      },
      "outputs": [
        {
          "output_type": "stream",
          "name": "stdout",
          "text": [
            "Dividing 17 by 5 result: y1=3, y2=2\n"
          ]
        }
      ],
      "source": [
        "y1, y2 = DIVMOD(17,5)\n",
        "print(f\"Dividing 17 by 5 result: y1={y1}, y2={y2}\")"
      ]
    },
    {
      "cell_type": "markdown",
      "metadata": {
        "id": "Dohz3CnJNZ48"
      },
      "source": [
        "* Note that we first define our RAM program as text string `code`,\n",
        "  and then create a `Ram` object by invoking the `Ram` Python class.\n",
        "* The `Ram` class accepts two arguments:\n",
        "  * Machine name\n",
        "  * Program text or file name for the program text\n",
        "* If we put our program text in a file like divmod.ram,\n",
        "  we can also create our machine object with a command such as\n",
        "  ```\n",
        "  DIVMOD = Ram(\"DIVMOD\", \"divmod.ram\")\n",
        "  ```\n",
        "* In all examples we use capital letter names for the `Ram` objects.\n",
        "  Usually identical to their internal names."
      ]
    },
    {
      "cell_type": "markdown",
      "metadata": {
        "id": "LYxPIYkSclul"
      },
      "source": [
        "## Example 2: EXP - building RAM machine for the exponent operation\n",
        "* As we already have addition and multiplication in our base RAM\n",
        "  commands, we now show how to build a RAM machine for the exponnetial\n",
        "  function.\n",
        "* Lets first start with a flow diagram for the exponential function\n",
        "\n",
        "<IMG src=\"https://samyzaf.com/afl/figs/ram2.jpg\" width=500 align=\"center\"/>"
      ]
    },
    {
      "cell_type": "code",
      "execution_count": 6,
      "metadata": {
        "id": "fVnx2DADy85w"
      },
      "outputs": [],
      "source": [
        "code = \"\"\"\n",
        "PROGRAM EXP(x1, x2 : y1, y2)\n",
        "    1. r1 = x1\n",
        "    2. r2 = x2\n",
        "    3. JZERO(r1, 9)\n",
        "    4. r3 = 1\n",
        "    5. JZERO(r2, 14)\n",
        "    6. r3 = r3 * r1\n",
        "    7. r2 = r2 - 1\n",
        "    8. JUMP(5)\n",
        "    9. JZERO(r2, 12)\n",
        "    10. y1 = 0\n",
        "    11. JUMP(15)\n",
        "    12. y2 = 1\n",
        "    13. JUMP(15)\n",
        "    14. y1 = r3\n",
        "    15. HALT\n",
        "\"\"\""
      ]
    },
    {
      "cell_type": "markdown",
      "metadata": {
        "id": "d4NM_0askbL0"
      },
      "source": [
        "* As you can see, our `EXP` version has two outputs $y_1$ and $y_2$\n",
        "* The first one holds the exponential result if the input is legal.\n",
        "* In case of an illegal input like $x_1=x_2=0$, the second output will be set to $y_2=1$ "
      ]
    },
    {
      "cell_type": "code",
      "execution_count": 7,
      "metadata": {
        "id": "fatry-XEzEXn"
      },
      "outputs": [],
      "source": [
        "EXP = Ram(\"EXP\", code)"
      ]
    },
    {
      "cell_type": "code",
      "execution_count": 8,
      "metadata": {
        "colab": {
          "base_uri": "https://localhost:8080/"
        },
        "id": "oCquryGC6gQ1",
        "outputId": "46485aeb-9909-4b90-aecd-f3db389b46ce"
      },
      "outputs": [
        {
          "output_type": "stream",
          "name": "stdout",
          "text": [
            "y1=32, y2=0\n"
          ]
        }
      ],
      "source": [
        "y1,y2 = EXP(2,5)\n",
        "print(f\"y1={y1}, y2={y2}\")"
      ]
    },
    {
      "cell_type": "code",
      "execution_count": 9,
      "metadata": {
        "colab": {
          "base_uri": "https://localhost:8080/"
        },
        "id": "pyS5cXy26wbT",
        "outputId": "2a411f70-d094-4572-e358-f20835736f67"
      },
      "outputs": [
        {
          "output_type": "stream",
          "name": "stdout",
          "text": [
            "y1=0, y2=1\n"
          ]
        }
      ],
      "source": [
        "y1,y2 = EXP(0,0)\n",
        "print(f\"y1={y1}, y2={y2}\")"
      ]
    },
    {
      "cell_type": "markdown",
      "metadata": {
        "id": "nccwu4wu63CD"
      },
      "source": [
        "## Example 3: PRIME - checking if an integer is a prime number\n",
        "* Once we have built a RAM machine such as `DIVMOD`, we can use it as an instruction within\n",
        "  a new RAM machine.\n",
        "* Formally, a RAM machine which used other RAM machine is called **Generalized RAM Machine**,\n",
        "  but there is a Theorem that assures that for every generalized RAM machine there is an equivalent RAM machine\n",
        "* The following flow diagram for the `PRIME` algorithm is using the `DIVMOD` instruction which we have defined above.\n",
        "\n",
        "<IMG src=\"https://samyzaf.com/afl/figs/ram7.jpg\" width=600 align=\"center\"/>"
      ]
    },
    {
      "cell_type": "code",
      "execution_count": 10,
      "metadata": {
        "id": "3i6IvOLGJsdm"
      },
      "outputs": [],
      "source": [
        "code = \"\"\"\n",
        "PROGRAM PRIME(x1 : y1)\n",
        "    1. y1 = 1\n",
        "    2. r1 = x1 - 3\n",
        "    3. JPOS(r1, 5)\n",
        "    4. HALT\n",
        "    5. r0 = 2\n",
        "    6. r1,r2 = DIVMOD(x1,r0)\n",
        "    7. JZERO(r2, 11)\n",
        "    8. r0 = r0 + 1\n",
        "    9. JE(r0, x1, 12)\n",
        "    10. JUMP(6)\n",
        "    11. y1 = 0\n",
        "    12. HALT\n",
        "\"\"\""
      ]
    },
    {
      "cell_type": "code",
      "execution_count": 11,
      "metadata": {
        "colab": {
          "base_uri": "https://localhost:8080/"
        },
        "id": "MYjXVl5m_bbP",
        "outputId": "133245ac-40ff-47d1-80b2-66c23648c68d"
      },
      "outputs": [
        {
          "output_type": "stream",
          "name": "stdout",
          "text": [
            "y=1\n"
          ]
        }
      ],
      "source": [
        "PRIME = Ram(\"PRIME\", code)\n",
        "y = PRIME(19)\n",
        "print(f\"y={y}\")"
      ]
    },
    {
      "cell_type": "markdown",
      "metadata": {
        "id": "Z2Djpbc6qNPX"
      },
      "source": [
        "## Computation Tables\n",
        "* A simple way to observe and comprehend a RAM machine is by looking at snapshots of its register values.\n",
        "* A snapshot consists of all the current values of input, memory, and output registers.\n",
        "* A **computation table** consists of the full sequence of all the machine snapshots from its start to end.\n",
        "* The **PyRamPL** package contains a special method for displaying this table as a markdown table\n",
        "  (so you need to run it inside a markdown viewer such as an Ipython Jupyter Notebook)\n",
        "* I the following example we display the computation table of the RAM machine `PRIME` for the input $x_1=7$."
      ]
    },
    {
      "cell_type": "code",
      "execution_count": 12,
      "metadata": {
        "colab": {
          "base_uri": "https://localhost:8080/",
          "height": 663
        },
        "id": "UcZ1JoPz_bbQ",
        "outputId": "d1422799-4fca-4ac9-fb6f-a710c4ddf31c"
      },
      "outputs": [
        {
          "output_type": "display_data",
          "data": {
            "text/plain": [
              "<IPython.core.display.Markdown object>"
            ],
            "text/markdown": "| Frame |  Instruction | x1 | r0 | r1 | r2 | y1 |\n| :-- | :-- | :-: | :-: | :-: | :-: | :-: |\n|0&nbsp;|Init&nbsp;|7&nbsp;|0&nbsp;|0&nbsp;|0&nbsp;|0&nbsp;|\n|1&nbsp;|1. y1 = 1&nbsp;|7&nbsp;|0&nbsp;|0&nbsp;|0&nbsp;|1&nbsp;|\n|2&nbsp;|2. r1 = x1 - 3&nbsp;|7&nbsp;|0&nbsp;|4&nbsp;|0&nbsp;|1&nbsp;|\n|3&nbsp;|3. JPOS(r1, 5)&nbsp;|7&nbsp;|0&nbsp;|4&nbsp;|0&nbsp;|1&nbsp;|\n|4&nbsp;|5. r0 = 2&nbsp;|7&nbsp;|2&nbsp;|4&nbsp;|0&nbsp;|1&nbsp;|\n|5&nbsp;|6. r1,r2 = DIVMOD(x1,r0)&nbsp;|7&nbsp;|2&nbsp;|3&nbsp;|1&nbsp;|1&nbsp;|\n|6&nbsp;|7. JZERO(r2, 11)&nbsp;|7&nbsp;|2&nbsp;|3&nbsp;|1&nbsp;|1&nbsp;|\n|7&nbsp;|8. r0 = r0 + 1&nbsp;|7&nbsp;|3&nbsp;|3&nbsp;|1&nbsp;|1&nbsp;|\n|8&nbsp;|9. JE(r0, x1, 12)&nbsp;|7&nbsp;|3&nbsp;|3&nbsp;|1&nbsp;|1&nbsp;|\n|9&nbsp;|10. JUMP(6)&nbsp;|7&nbsp;|3&nbsp;|3&nbsp;|1&nbsp;|1&nbsp;|\n|10&nbsp;|6. r1,r2 = DIVMOD(x1,r0)&nbsp;|7&nbsp;|3&nbsp;|2&nbsp;|1&nbsp;|1&nbsp;|\n|11&nbsp;|7. JZERO(r2, 11)&nbsp;|7&nbsp;|3&nbsp;|2&nbsp;|1&nbsp;|1&nbsp;|\n|12&nbsp;|8. r0 = r0 + 1&nbsp;|7&nbsp;|4&nbsp;|2&nbsp;|1&nbsp;|1&nbsp;|\n|13&nbsp;|9. JE(r0, x1, 12)&nbsp;|7&nbsp;|4&nbsp;|2&nbsp;|1&nbsp;|1&nbsp;|\n|14&nbsp;|10. JUMP(6)&nbsp;|7&nbsp;|4&nbsp;|2&nbsp;|1&nbsp;|1&nbsp;|\n|15&nbsp;|6. r1,r2 = DIVMOD(x1,r0)&nbsp;|7&nbsp;|4&nbsp;|1&nbsp;|3&nbsp;|1&nbsp;|\n|16&nbsp;|7. JZERO(r2, 11)&nbsp;|7&nbsp;|4&nbsp;|1&nbsp;|3&nbsp;|1&nbsp;|\n|17&nbsp;|8. r0 = r0 + 1&nbsp;|7&nbsp;|5&nbsp;|1&nbsp;|3&nbsp;|1&nbsp;|\n|18&nbsp;|9. JE(r0, x1, 12)&nbsp;|7&nbsp;|5&nbsp;|1&nbsp;|3&nbsp;|1&nbsp;|\n|19&nbsp;|10. JUMP(6)&nbsp;|7&nbsp;|5&nbsp;|1&nbsp;|3&nbsp;|1&nbsp;|\n|20&nbsp;|6. r1,r2 = DIVMOD(x1,r0)&nbsp;|7&nbsp;|5&nbsp;|1&nbsp;|2&nbsp;|1&nbsp;|\n|21&nbsp;|7. JZERO(r2, 11)&nbsp;|7&nbsp;|5&nbsp;|1&nbsp;|2&nbsp;|1&nbsp;|\n|22&nbsp;|8. r0 = r0 + 1&nbsp;|7&nbsp;|6&nbsp;|1&nbsp;|2&nbsp;|1&nbsp;|\n|23&nbsp;|9. JE(r0, x1, 12)&nbsp;|7&nbsp;|6&nbsp;|1&nbsp;|2&nbsp;|1&nbsp;|\n|24&nbsp;|10. JUMP(6)&nbsp;|7&nbsp;|6&nbsp;|1&nbsp;|2&nbsp;|1&nbsp;|\n|25&nbsp;|6. r1,r2 = DIVMOD(x1,r0)&nbsp;|7&nbsp;|6&nbsp;|1&nbsp;|1&nbsp;|1&nbsp;|\n|26&nbsp;|7. JZERO(r2, 11)&nbsp;|7&nbsp;|6&nbsp;|1&nbsp;|1&nbsp;|1&nbsp;|\n|27&nbsp;|8. r0 = r0 + 1&nbsp;|7&nbsp;|7&nbsp;|1&nbsp;|1&nbsp;|1&nbsp;|\n|28&nbsp;|9. JE(r0, x1, 12)&nbsp;|7&nbsp;|7&nbsp;|1&nbsp;|1&nbsp;|1&nbsp;|\n|29&nbsp;|12. HALT&nbsp;|7&nbsp;|7&nbsp;|1&nbsp;|1&nbsp;|1&nbsp;|"
          },
          "metadata": {}
        }
      ],
      "source": [
        "display_table(PRIME, 7)"
      ]
    },
    {
      "cell_type": "code",
      "execution_count": 13,
      "metadata": {
        "colab": {
          "base_uri": "https://localhost:8080/",
          "height": 372
        },
        "id": "CrPEcKr8_bbR",
        "outputId": "0187492a-f295-49f8-fccd-c5bcffef9c97"
      },
      "outputs": [
        {
          "output_type": "display_data",
          "data": {
            "text/plain": [
              "<IPython.core.display.Markdown object>"
            ],
            "text/markdown": "| Frame |  Instruction | x1 | x2 | r1 | r2 | r3 | y1 | y2 |\n| :-- | :-- | :-: | :-: | :-: | :-: | :-: | :-: | :-: |\n|0&nbsp;|Init&nbsp;|5&nbsp;|2&nbsp;|0&nbsp;|0&nbsp;|0&nbsp;|0&nbsp;|0&nbsp;|\n|1&nbsp;|1. r1 = x1&nbsp;|5&nbsp;|2&nbsp;|5&nbsp;|0&nbsp;|0&nbsp;|0&nbsp;|0&nbsp;|\n|2&nbsp;|2. r2 = x2&nbsp;|5&nbsp;|2&nbsp;|5&nbsp;|2&nbsp;|0&nbsp;|0&nbsp;|0&nbsp;|\n|3&nbsp;|3. JZERO(r1, 9)&nbsp;|5&nbsp;|2&nbsp;|5&nbsp;|2&nbsp;|0&nbsp;|0&nbsp;|0&nbsp;|\n|4&nbsp;|4. r3 = 1&nbsp;|5&nbsp;|2&nbsp;|5&nbsp;|2&nbsp;|1&nbsp;|0&nbsp;|0&nbsp;|\n|5&nbsp;|5. JZERO(r2, 14)&nbsp;|5&nbsp;|2&nbsp;|5&nbsp;|2&nbsp;|1&nbsp;|0&nbsp;|0&nbsp;|\n|6&nbsp;|6. r3 = r3 * r1&nbsp;|5&nbsp;|2&nbsp;|5&nbsp;|2&nbsp;|5&nbsp;|0&nbsp;|0&nbsp;|\n|7&nbsp;|7. r2 = r2 - 1&nbsp;|5&nbsp;|2&nbsp;|5&nbsp;|1&nbsp;|5&nbsp;|0&nbsp;|0&nbsp;|\n|8&nbsp;|8. JUMP(5)&nbsp;|5&nbsp;|2&nbsp;|5&nbsp;|1&nbsp;|5&nbsp;|0&nbsp;|0&nbsp;|\n|9&nbsp;|5. JZERO(r2, 14)&nbsp;|5&nbsp;|2&nbsp;|5&nbsp;|1&nbsp;|5&nbsp;|0&nbsp;|0&nbsp;|\n|10&nbsp;|6. r3 = r3 * r1&nbsp;|5&nbsp;|2&nbsp;|5&nbsp;|1&nbsp;|25&nbsp;|0&nbsp;|0&nbsp;|\n|11&nbsp;|7. r2 = r2 - 1&nbsp;|5&nbsp;|2&nbsp;|5&nbsp;|0&nbsp;|25&nbsp;|0&nbsp;|0&nbsp;|\n|12&nbsp;|8. JUMP(5)&nbsp;|5&nbsp;|2&nbsp;|5&nbsp;|0&nbsp;|25&nbsp;|0&nbsp;|0&nbsp;|\n|13&nbsp;|5. JZERO(r2, 14)&nbsp;|5&nbsp;|2&nbsp;|5&nbsp;|0&nbsp;|25&nbsp;|0&nbsp;|0&nbsp;|\n|14&nbsp;|14. y1 = r3&nbsp;|5&nbsp;|2&nbsp;|5&nbsp;|0&nbsp;|25&nbsp;|25&nbsp;|0&nbsp;|\n|15&nbsp;|15. HALT&nbsp;|5&nbsp;|2&nbsp;|5&nbsp;|0&nbsp;|25&nbsp;|25&nbsp;|0&nbsp;|"
          },
          "metadata": {}
        }
      ],
      "source": [
        "display_table(EXP, 5, 2)"
      ]
    },
    {
      "cell_type": "code",
      "execution_count": 14,
      "metadata": {
        "colab": {
          "base_uri": "https://localhost:8080/",
          "height": 518
        },
        "id": "Uo_-dmoZ_bbR",
        "outputId": "587749c5-4852-445d-9f05-d45399585418"
      },
      "outputs": [
        {
          "output_type": "display_data",
          "data": {
            "text/plain": [
              "<IPython.core.display.Markdown object>"
            ],
            "text/markdown": "| Frame |  Instruction | x1 | x2 | r0 | r1 | r2 | r3 | y1 | y2 |\n| :-- | :-- | :-: | :-: | :-: | :-: | :-: | :-: | :-: | :-: |\n|0&nbsp;|Init&nbsp;|18&nbsp;|5&nbsp;|0&nbsp;|0&nbsp;|0&nbsp;|0&nbsp;|0&nbsp;|0&nbsp;|\n|1&nbsp;|1. r1 = x1&nbsp;|18&nbsp;|5&nbsp;|0&nbsp;|18&nbsp;|0&nbsp;|0&nbsp;|0&nbsp;|0&nbsp;|\n|2&nbsp;|2. r2 = x2&nbsp;|18&nbsp;|5&nbsp;|0&nbsp;|18&nbsp;|5&nbsp;|0&nbsp;|0&nbsp;|0&nbsp;|\n|3&nbsp;|3. r0 = r2 - r1&nbsp;|18&nbsp;|5&nbsp;|-13&nbsp;|18&nbsp;|5&nbsp;|0&nbsp;|0&nbsp;|0&nbsp;|\n|4&nbsp;|4. JPOS(r0, 8)&nbsp;|18&nbsp;|5&nbsp;|-13&nbsp;|18&nbsp;|5&nbsp;|0&nbsp;|0&nbsp;|0&nbsp;|\n|5&nbsp;|5. r3 = r3 + 1&nbsp;|18&nbsp;|5&nbsp;|-13&nbsp;|18&nbsp;|5&nbsp;|1&nbsp;|0&nbsp;|0&nbsp;|\n|6&nbsp;|6. r1 = r1 - r2&nbsp;|18&nbsp;|5&nbsp;|-13&nbsp;|13&nbsp;|5&nbsp;|1&nbsp;|0&nbsp;|0&nbsp;|\n|7&nbsp;|7. JUMP(3)&nbsp;|18&nbsp;|5&nbsp;|-13&nbsp;|13&nbsp;|5&nbsp;|1&nbsp;|0&nbsp;|0&nbsp;|\n|8&nbsp;|3. r0 = r2 - r1&nbsp;|18&nbsp;|5&nbsp;|-8&nbsp;|13&nbsp;|5&nbsp;|1&nbsp;|0&nbsp;|0&nbsp;|\n|9&nbsp;|4. JPOS(r0, 8)&nbsp;|18&nbsp;|5&nbsp;|-8&nbsp;|13&nbsp;|5&nbsp;|1&nbsp;|0&nbsp;|0&nbsp;|\n|10&nbsp;|5. r3 = r3 + 1&nbsp;|18&nbsp;|5&nbsp;|-8&nbsp;|13&nbsp;|5&nbsp;|2&nbsp;|0&nbsp;|0&nbsp;|\n|11&nbsp;|6. r1 = r1 - r2&nbsp;|18&nbsp;|5&nbsp;|-8&nbsp;|8&nbsp;|5&nbsp;|2&nbsp;|0&nbsp;|0&nbsp;|\n|12&nbsp;|7. JUMP(3)&nbsp;|18&nbsp;|5&nbsp;|-8&nbsp;|8&nbsp;|5&nbsp;|2&nbsp;|0&nbsp;|0&nbsp;|\n|13&nbsp;|3. r0 = r2 - r1&nbsp;|18&nbsp;|5&nbsp;|-3&nbsp;|8&nbsp;|5&nbsp;|2&nbsp;|0&nbsp;|0&nbsp;|\n|14&nbsp;|4. JPOS(r0, 8)&nbsp;|18&nbsp;|5&nbsp;|-3&nbsp;|8&nbsp;|5&nbsp;|2&nbsp;|0&nbsp;|0&nbsp;|\n|15&nbsp;|5. r3 = r3 + 1&nbsp;|18&nbsp;|5&nbsp;|-3&nbsp;|8&nbsp;|5&nbsp;|3&nbsp;|0&nbsp;|0&nbsp;|\n|16&nbsp;|6. r1 = r1 - r2&nbsp;|18&nbsp;|5&nbsp;|-3&nbsp;|3&nbsp;|5&nbsp;|3&nbsp;|0&nbsp;|0&nbsp;|\n|17&nbsp;|7. JUMP(3)&nbsp;|18&nbsp;|5&nbsp;|-3&nbsp;|3&nbsp;|5&nbsp;|3&nbsp;|0&nbsp;|0&nbsp;|\n|18&nbsp;|3. r0 = r2 - r1&nbsp;|18&nbsp;|5&nbsp;|2&nbsp;|3&nbsp;|5&nbsp;|3&nbsp;|0&nbsp;|0&nbsp;|\n|19&nbsp;|4. JPOS(r0, 8)&nbsp;|18&nbsp;|5&nbsp;|2&nbsp;|3&nbsp;|5&nbsp;|3&nbsp;|0&nbsp;|0&nbsp;|\n|20&nbsp;|8. y1 = r3&nbsp;|18&nbsp;|5&nbsp;|2&nbsp;|3&nbsp;|5&nbsp;|3&nbsp;|3&nbsp;|0&nbsp;|\n|21&nbsp;|9. y2 = r1&nbsp;|18&nbsp;|5&nbsp;|2&nbsp;|3&nbsp;|5&nbsp;|3&nbsp;|3&nbsp;|3&nbsp;|\n|22&nbsp;|10. HALT&nbsp;|18&nbsp;|5&nbsp;|2&nbsp;|3&nbsp;|5&nbsp;|3&nbsp;|3&nbsp;|3&nbsp;|"
          },
          "metadata": {}
        }
      ],
      "source": [
        "display_table(DIVMOD, 18, 5)"
      ]
    },
    {
      "cell_type": "markdown",
      "metadata": {
        "id": "z6PafWwFEiuK"
      },
      "source": [
        "## Example 4: An algorithm for computing the Greatest Common Divisor - GCD\n",
        "* The following RAM program shows how we can code Euclid's GCD algorithm\n",
        "  within the limited bound of the RAP program syntax.\n",
        "* Note that it uses the `DIVMOD` machine which we defined earlier\n",
        "  in two different places (re rectangles)\n",
        "* It is not fully complete, as it avoids checking zero division issues.\n",
        "\n",
        "<IMG src=\"https://samyzaf.com/afl/figs/ram5.jpg\" width=400 align=\"center\"/>"
      ]
    },
    {
      "cell_type": "code",
      "execution_count": 15,
      "metadata": {
        "id": "-sqGSYf9EWuZ"
      },
      "outputs": [],
      "source": [
        "code = \"\"\"\n",
        "PROGRAM GCD(x1, x2 : y1)\n",
        "    1. r1 = x1\n",
        "    2. r2 = x2\n",
        "    3. JZERO(r1, 11)\n",
        "    4. JZERO(r2, 13)\n",
        "    5. r0 = r1 - r2\n",
        "    6. JPOS(r0, 15)\n",
        "    7. r0 = r2 - r1\n",
        "    8. JPOS(r0, 17)\n",
        "    9. y1 = r1\n",
        "    10. HALT\n",
        "    11. y1 = r2\n",
        "    12. HALT\n",
        "    13. y1 = r1\n",
        "    14. HALT\n",
        "    15. r3, r1 = DIVMOD(r1, r2)\n",
        "    16. JUMP(3)\n",
        "    17. r3, r2 = DIVMOD(r2, r1)\n",
        "    18. JUMP(4)\n",
        "    19. HALT\n",
        "\"\"\""
      ]
    },
    {
      "cell_type": "code",
      "execution_count": 16,
      "metadata": {
        "id": "-9hwzefyFjSA"
      },
      "outputs": [],
      "source": [
        "GCD = Ram(\"GCD\", code)"
      ]
    },
    {
      "cell_type": "code",
      "execution_count": 17,
      "metadata": {
        "colab": {
          "base_uri": "https://localhost:8080/"
        },
        "id": "T7l7Y8ELFrIe",
        "outputId": "6768d53d-ee48-4571-fafe-0dbe9571226e"
      },
      "outputs": [
        {
          "output_type": "stream",
          "name": "stdout",
          "text": [
            "The greatest common divisor of 72 and 54 is 18\n"
          ]
        }
      ],
      "source": [
        "y = GCD(72,54)\n",
        "print(f\"The greatest common divisor of 72 and 54 is {y}\")"
      ]
    },
    {
      "cell_type": "markdown",
      "metadata": {
        "id": "WaM35akC05ai"
      },
      "source": [
        "## Example 5: MAX4 - An algorithm for finding the maximum of 4 numbers\n",
        "\n",
        "<IMG src=\"https://samyzaf.com/afl/figs/ram8.jpg\" width=300 align=\"center\"/>"
      ]
    },
    {
      "cell_type": "code",
      "execution_count": 18,
      "metadata": {
        "id": "tBBL85fS_bbS"
      },
      "outputs": [],
      "source": [
        "code = \"\"\"\n",
        "PROGRAM MAX4(x1, x2, x3, x4 : y1)\n",
        "    1. y1 = x1\n",
        "    2. r0 = y1 - x2\n",
        "    3. JPOS(r0,5)\n",
        "    4. y1 = x2\n",
        "    5. r0 = y1 - x3\n",
        "    6. JPOS(r0,8)\n",
        "    7. y1 = x3\n",
        "    8. r0 = y1 - x4\n",
        "    9. JPOS(r0,11)\n",
        "    10. y1 = x4\n",
        "    11. HALT\n",
        "\n",
        "\"\"\""
      ]
    },
    {
      "cell_type": "code",
      "execution_count": 19,
      "metadata": {
        "id": "k9Fxlvg7_bbS"
      },
      "outputs": [],
      "source": [
        "MAX4 = Ram(\"MAX4\", code)"
      ]
    },
    {
      "cell_type": "code",
      "execution_count": 20,
      "metadata": {
        "colab": {
          "base_uri": "https://localhost:8080/"
        },
        "id": "hLn_GdlO_bbT",
        "outputId": "23f0e5f5-06f1-43d2-b130-23c7411ccc1e"
      },
      "outputs": [
        {
          "output_type": "execute_result",
          "data": {
            "text/plain": [
              "26"
            ]
          },
          "metadata": {},
          "execution_count": 20
        }
      ],
      "source": [
        "MAX4(2, 26, 9, 4)"
      ]
    },
    {
      "cell_type": "markdown",
      "metadata": {
        "id": "F2Lsl1je05aj"
      },
      "source": [
        "## Example 6: GETBIT and SETBIT\n",
        "\n",
        "* The `GETBIT` and `SETBIT` are important for simulating a Turing machine by a RAM machine.\n",
        "* The Turing machine tape is represented by a binary string encoded as an integer number.\n",
        "* The `GETBIT` functions extracts the binary bit of an integer at a given place.\n",
        "* For example: $41 = 101001_2$.\n",
        "* Therefore GETBIT(41,0) = 1, GETBIT(41,1) = 0, GETBIT(41,2) = 0,  GETBIT(41,3) = 1, etc.\n",
        "* The `SETBIT` function sets the bit of an integer at a given location.\n",
        "* For example: SETBIT(41,2,1) = 45.\n",
        "\n",
        "<table><tr>\n",
        "<td>\n",
        "<IMG src=\"https://samyzaf.com/afl/figs/ram9.jpg\"  style=\"height: 350px;\"/>\n",
        "</td>\n",
        "<td> &nbsp;&nbsp;&nbsp;&nbsp;  </td>\n",
        "<td>\n",
        "<IMG src=\"https://samyzaf.com/afl/figs/ram11.jpg\" style=\"height: 350px;\"/>\n",
        "</td>\n",
        "</tr></table>"
      ]
    },
    {
      "cell_type": "code",
      "execution_count": 21,
      "metadata": {
        "id": "ssvNYNMrtlSS"
      },
      "outputs": [],
      "source": [
        "code1 = \"\"\"\n",
        "PROGRAM GETBIT(x1, x2 : y1)\n",
        "    1. r1 = x1\n",
        "    2. r2 = x2\n",
        "    3. r1,r0 = DIVMOD(r1, 2)\n",
        "    4. JZERO(r2, 7)\n",
        "    5. r2 = r2 -1\n",
        "    6. JUMP(3)\n",
        "    7. y1 = r0\n",
        "    8. HALT\n",
        "\"\"\""
      ]
    },
    {
      "cell_type": "code",
      "execution_count": 22,
      "metadata": {
        "id": "uwNo1cak_bbT"
      },
      "outputs": [],
      "source": [
        "code2 = \"\"\"\n",
        "PROGRAM SETBIT(x1, x2, x3 : y1)\n",
        "    1. r0 = GETBIT(x1, x2)\n",
        "    2. JE(r0, x3, 9)\n",
        "    3. r1,r2 = EXP(2, x2)\n",
        "    4. JPOS(x3, 7)\n",
        "    5. y1 = x1 - r1\n",
        "    6. HALT\n",
        "    7. y1 = x1 + r1\n",
        "    8. HALT\n",
        "    9. y1 = x1\n",
        "    10. HALT\n",
        "\"\"\""
      ]
    },
    {
      "cell_type": "code",
      "execution_count": 23,
      "metadata": {
        "id": "QqMtOmQf_bbT"
      },
      "outputs": [],
      "source": [
        "GETBIT = Ram(\"GETBIT\", code1)\n",
        "SETBIT = Ram(\"SETBIT\", code2)"
      ]
    },
    {
      "cell_type": "code",
      "execution_count": 24,
      "metadata": {
        "id": "3KWMkxEb0fmA",
        "colab": {
          "base_uri": "https://localhost:8080/"
        },
        "outputId": "214cd661-a270-4a1c-e315-f7d3baead080"
      },
      "outputs": [
        {
          "output_type": "stream",
          "name": "stdout",
          "text": [
            "45\n"
          ]
        }
      ],
      "source": [
        "y1 = SETBIT(41, 2, 1)\n",
        "print(y1)"
      ]
    },
    {
      "cell_type": "code",
      "execution_count": 25,
      "metadata": {
        "colab": {
          "base_uri": "https://localhost:8080/",
          "height": 185
        },
        "id": "wrpofD_G_bbU",
        "outputId": "2001aecc-6e2f-41a4-b343-35da2589025e"
      },
      "outputs": [
        {
          "output_type": "display_data",
          "data": {
            "text/plain": [
              "<IPython.core.display.Markdown object>"
            ],
            "text/markdown": "| Frame |  Instruction | x1 | x2 | x3 | r0 | r1 | r2 | y1 |\n| :-- | :-- | :-: | :-: | :-: | :-: | :-: | :-: | :-: |\n|0&nbsp;|Init&nbsp;|9&nbsp;|2&nbsp;|1&nbsp;|0&nbsp;|0&nbsp;|0&nbsp;|0&nbsp;|\n|1&nbsp;|1. r0 = GETBIT(x1, x2)&nbsp;|9&nbsp;|2&nbsp;|1&nbsp;|0&nbsp;|0&nbsp;|0&nbsp;|0&nbsp;|\n|2&nbsp;|2. JE(r0, x3, 9)&nbsp;|9&nbsp;|2&nbsp;|1&nbsp;|0&nbsp;|0&nbsp;|0&nbsp;|0&nbsp;|\n|3&nbsp;|3. r1,r2 = EXP(2, x2)&nbsp;|9&nbsp;|2&nbsp;|1&nbsp;|0&nbsp;|4&nbsp;|0&nbsp;|0&nbsp;|\n|4&nbsp;|4. JPOS(x3, 7)&nbsp;|9&nbsp;|2&nbsp;|1&nbsp;|0&nbsp;|4&nbsp;|0&nbsp;|0&nbsp;|\n|5&nbsp;|7. y1 = x1 + r1&nbsp;|9&nbsp;|2&nbsp;|1&nbsp;|0&nbsp;|4&nbsp;|0&nbsp;|13&nbsp;|\n|6&nbsp;|8. HALT&nbsp;|9&nbsp;|2&nbsp;|1&nbsp;|0&nbsp;|4&nbsp;|0&nbsp;|13&nbsp;|"
          },
          "metadata": {}
        }
      ],
      "source": [
        "display_table(SETBIT,9, 2, 1)"
      ]
    }
  ],
  "metadata": {
    "anaconda-cloud": {},
    "colab": {
      "provenance": [],
      "include_colab_link": true
    },
    "kernelspec": {
      "display_name": "Python 3 (ipykernel)",
      "language": "python",
      "name": "python3"
    },
    "language_info": {
      "codemirror_mode": {
        "name": "ipython",
        "version": 3
      },
      "file_extension": ".py",
      "mimetype": "text/x-python",
      "name": "python",
      "nbconvert_exporter": "python",
      "pygments_lexer": "ipython3",
      "version": "3.7.11"
    }
  },
  "nbformat": 4,
  "nbformat_minor": 0
}