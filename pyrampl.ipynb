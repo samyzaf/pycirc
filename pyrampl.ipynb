{
  "cells": [
    {
      "cell_type": "markdown",
      "metadata": {
        "id": "view-in-github",
        "colab_type": "text"
      },
      "source": [
        "<a href=\"https://colab.research.google.com/github/samyzaf/pycirc/blob/main/pyrampl.ipynb\" target=\"_parent\"><img src=\"https://colab.research.google.com/assets/colab-badge.svg\" alt=\"Open In Colab\"/></a>"
      ]
    },
    {
      "cell_type": "markdown",
      "metadata": {
        "id": "ASc0nYpw6D40"
      },
      "source": [
        "# <font face=\"Arial\" size=6> PyRamPL - Python Random Access Machine Programming Language </font>\n",
        "\n",
        "* <a href=\"https://github.com/samyzaf/pycirc/blob/main/pyrampl.ipynb\">\n",
        "Link to the the Google Colaboratory notebook\n",
        "</a>\n",
        "\n",
        "  * The Google Colaboratory notebook has the advantage\n",
        "     that you can run PyRamPl code from it without having to\n",
        "     install PyRamPL or even Python on your local system.\n",
        "  * You first need to copy it to your google drive\n",
        "  * You can also download it to your local device and open it as\n",
        "     a Jupyter notebook (if you have it installed with your Python)."
      ]
    },
    {
      "cell_type": "markdown",
      "metadata": {
        "id": "re0JUU526D47"
      },
      "source": [
        "## Installing the PyRamPL package\n",
        "* The **PyRamPL** package can be installed on your local system by running the following command from the command line\n",
        "```\n",
        "pip install pyrampl\n",
        "```\n",
        "* Or you may try running one of the following commands from this notebook.\n",
        "* If you are running it from a Jupyter notebook on your local system, then it will be installed on your device.  "
      ]
    },
    {
      "cell_type": "code",
      "execution_count": 1,
      "metadata": {
        "colab": {
          "base_uri": "https://localhost:8080/"
        },
        "id": "H8Trabf46D47",
        "outputId": "ddad8464-86d4-4b0f-f114-ebc3b65a08e1"
      },
      "outputs": [
        {
          "output_type": "stream",
          "name": "stdout",
          "text": [
            "Looking in indexes: https://pypi.org/simple, https://us-python.pkg.dev/colab-wheels/public/simple/\n",
            "Requirement already satisfied: pyrampl in /usr/local/lib/python3.7/dist-packages (1.2)\n"
          ]
        }
      ],
      "source": [
        "# To install from this notebook, run this cell.\n",
        "%pip install pyrampl\n",
        "# This should also work:\n",
        "#!pip install --upgrade pyrampl\n",
        "\n",
        "# After installation, you have to restart this notebook.\n",
        "# Make sure to comment the %pip or !pip lines above to avoid reinstall each time you run this notebook.\n",
        "\n",
        "# To uninstall the package use:\n",
        "#%pip uninstall pyrampl\n",
        "# or\n",
        "#!pip uninstall pyrampl"
      ]
    },
    {
      "cell_type": "markdown",
      "metadata": {
        "id": "5hIXG9SE6D48"
      },
      "source": [
        "* **After installation, you may need to restart this notebook.**"
      ]
    },
    {
      "cell_type": "markdown",
      "metadata": {
        "id": "kD35YCtJ6D4-"
      },
      "source": [
        "## Introduction\n",
        "\n",
        "* **PyRamPL** is a simple Python package for simulating\n",
        "  Random Access Memory Machine programs within the context of an introductory course on computational models.\n",
        "* It is a lightweight package especially designed for\n",
        "  small RAM programs, such as those that are presented\n",
        "  in introductory academic courses on the theory of computation.\n",
        "* It can be a useful companion for theoretical courses on\n",
        "  computation models and languages who wish also to engage\n",
        "  the students with some programming experience and skills.\n",
        "  * It was designed to be used in such a course by the author\n",
        "    (Hebrew book at http://samyzaf.com/afl.pdf).\n",
        "  * It enables students to easily experiment with RAM programs for their exercises,\n",
        "    and to test correctness of their solutions.\n",
        "* It also provide an opportunity for students to get a taste of how programming looks like\n",
        "  while learning theoretical computation course.\n",
        "* There are many different definitions of a RAM machine in the literature but from an educational\n",
        "  perspective most of them are adequate for presenting a computational model resembling a modern computer system\n",
        "  and its associated assembly programming language.\n",
        "* WARNING! Our current very **early version of PyRamPL** is not yet\n",
        "  making good syntactical checks, so make sure to write your\n",
        "  RAM programs correctly or else you will not get any meaningful feedback!\n",
        "  Since RAM programs have a very simple syntax we do not expect this to be a real problem.\n",
        "\n",
        "  <IMG src=\"https://samyzaf.com/afl/figs/ram1.jpg\" width=600 align=\"center\"/>\n"
      ]
    },
    {
      "cell_type": "markdown",
      "metadata": {
        "id": "Dx-Ax1MDAGRb"
      },
      "source": [
        "## RAM machine program Syntax\n",
        "\n",
        "|RAM Command &nbsp;&nbsp; | Description |\n",
        "| :------ | :---------- |\n",
        "| $a=b$       | load register b to a|\n",
        "| $a=i$       | Load integer i to register a|\n",
        "| $a = b+c$   | Add b and c and load result to a|\n",
        "| $a=b-c$     | Subtraction |\n",
        "| $a = b * c$ | Multiplication |\n",
        "| JUMP(i)     | Jump to command i (PC = i)|\n",
        "| JZERO(r, i)  | If r=0 jump to command i|\n",
        "| JPOS(r, i)  | If r>0 jump to command i|\n",
        "| JE(a, b, i) | If a=b jump to command i|\n",
        "| HALT        | Stop the program |\n",
        "\n",
        "## Example: DIVMOD program\n",
        "The following RAM program computes the integer quotient\n",
        "  and a remainder ($y_1$ and $y_2$)\n",
        "  after dividing $x_1$ by $x_2$\n",
        "```\n",
        "PROGRAM DIVMOD(x1, x2 : y1, y2)\n",
        "    1. r1 = x1\n",
        "    2. r2 = x2\n",
        "    3. r0 = r2 - r1\n",
        "    4. JPOS(r0, 8)\n",
        "    5. r3 = r3 + 1\n",
        "    6. r1 = r1 - r2\n",
        "    7. JUMP(3)\n",
        "    8. y1 = r3\n",
        "    9. y2 = r1\n",
        "    10. HALT\n",
        "\n",
        "```"
      ]
    },
    {
      "cell_type": "markdown",
      "metadata": {
        "id": "rlDvlU9I6D48"
      },
      "source": [
        "## Loading the PyRamPL package\n",
        "* After installing the **PyRamPl** package, you need to import\n",
        "  it.  \n",
        "* The following command imports **PyRamPl** to your Python interpreter."
      ]
    },
    {
      "cell_type": "code",
      "execution_count": 2,
      "metadata": {
        "id": "ZaIr21bT6D49"
      },
      "outputs": [],
      "source": [
        "from pyrampl import *\n",
        "from IPython.display import display, Markdown, Latex"
      ]
    },
    {
      "cell_type": "code",
      "execution_count": 3,
      "metadata": {
        "id": "bK2muCq_Ij9f"
      },
      "outputs": [],
      "source": [
        "code = \"\"\"\n",
        "PROGRAM DIVMOD(x1, x2 : y1, y2)\n",
        "    1. r1 = x1\n",
        "    2. r2 = x2\n",
        "    3. r0 = r2 - r1\n",
        "    4. JPOS(r0, 8)\n",
        "    5. r3 = r3 + 1\n",
        "    6. r1 = r1 - r2\n",
        "    7. JUMP(3)\n",
        "    8. y1 = r3\n",
        "    9. y2 = r1\n",
        "    10. HALT\n",
        "\"\"\""
      ]
    },
    {
      "cell_type": "code",
      "execution_count": 4,
      "metadata": {
        "id": "CjuZY24hI4Zg"
      },
      "outputs": [],
      "source": [
        "DIVMOD = Ram(\"DIVMOD\", code)"
      ]
    },
    {
      "cell_type": "code",
      "execution_count": 5,
      "metadata": {
        "colab": {
          "base_uri": "https://localhost:8080/"
        },
        "id": "XmYGfYc3JYlf",
        "outputId": "30993dc9-611f-4808-80fe-e6948fb0dfd5"
      },
      "outputs": [
        {
          "output_type": "stream",
          "name": "stdout",
          "text": [
            "Dividing 17 by 5 result: y1=3, y2=2\n"
          ]
        }
      ],
      "source": [
        "y1, y2 = DIVMOD(17,5)\n",
        "print(f\"Dividing 17 by 5 result: y1={y1}, y2={y2}\")"
      ]
    },
    {
      "cell_type": "code",
      "execution_count": 6,
      "metadata": {
        "id": "fVnx2DADy85w"
      },
      "outputs": [],
      "source": [
        "code = \"\"\"\n",
        "PROGRAM EXP(x1, x2 : y1, y2)\n",
        "    1. r1 = x1\n",
        "    2. r2 = x2\n",
        "    3. JZERO(r1, 9)\n",
        "    4. r3 = 1\n",
        "    5. JZERO(r2, 14)\n",
        "    6. r3 = r3 * r1\n",
        "    7. r2 = r2 - 1\n",
        "    8. JUMP(5)\n",
        "    9. JZERO(r2, 12)\n",
        "    10. y1 = 0\n",
        "    11. JUMP(15)\n",
        "    12. y2 = 1\n",
        "    13. JUMP(15)\n",
        "    14. y1 = r3\n",
        "    15. HALT\n",
        "\"\"\""
      ]
    },
    {
      "cell_type": "code",
      "execution_count": 7,
      "metadata": {
        "id": "fatry-XEzEXn"
      },
      "outputs": [],
      "source": [
        "EXP = Ram(\"EXP\", code)"
      ]
    },
    {
      "cell_type": "code",
      "execution_count": 8,
      "metadata": {
        "id": "3i6IvOLGJsdm"
      },
      "outputs": [],
      "source": [
        "code = \"\"\"\n",
        "PROGRAM PRIME(x1 : y1)\n",
        "    1. y1 = 1\n",
        "    2. r1 = x1 - 3\n",
        "    3. JPOS(r1, 5)\n",
        "    4. HALT\n",
        "    5. r0 = 2\n",
        "    6. r1,r2 = DIVMOD(x1,r0)\n",
        "    7. JZERO(r2, 11)\n",
        "    8. r0 = r0 + 1\n",
        "    9. JE(r0, x1, 12)\n",
        "    10. JUMP(6)\n",
        "    11. y1 = 0\n",
        "    12. HALT\n",
        "\"\"\""
      ]
    },
    {
      "cell_type": "code",
      "execution_count": 9,
      "metadata": {
        "colab": {
          "base_uri": "https://localhost:8080/"
        },
        "id": "MYjXVl5m_bbP",
        "outputId": "f2d3143a-27f3-4c1e-99d3-d5bbcbc1b990"
      },
      "outputs": [
        {
          "output_type": "stream",
          "name": "stdout",
          "text": [
            "y=1\n"
          ]
        }
      ],
      "source": [
        "PRIME = Ram(\"PRIME\", code)\n",
        "y = PRIME(19)\n",
        "print(f\"y={y}\")"
      ]
    },
    {
      "cell_type": "markdown",
      "metadata": {
        "id": "Z2Djpbc6qNPX"
      },
      "source": [
        "## Computation Tables\n",
        "* A simple way to observe and comprehend a RAM machine is by looking at snapshots of its register values.\n",
        "* A snapshot consists of all the current values of input, memory, and output registers.\n",
        "* A **computation table** consists of the full sequence of all the machine snapshots from its start to end.\n",
        "* The **PyRamPL** package contains a special command for displaying this table as a markdown table\n",
        "  (so you need run it inside a markdown viewer such as an Ipython Jupyter Notebook)\n",
        "* I the following example we display the computation table of the RAM machine `PRIME` for the input $x_1=7$."
      ]
    },
    {
      "cell_type": "code",
      "execution_count": 10,
      "metadata": {
        "colab": {
          "base_uri": "https://localhost:8080/",
          "height": 663
        },
        "id": "UcZ1JoPz_bbQ",
        "outputId": "1ec21f7d-5894-4b46-902e-495522dc0e4c"
      },
      "outputs": [
        {
          "output_type": "display_data",
          "data": {
            "text/plain": [
              "<IPython.core.display.Markdown object>"
            ],
            "text/markdown": "| Frame |  Instruction | x1 | r0 | r1 | r2 | y1 |\n| :-- | :-- | :-: | :-: | :-: | :-: | :-: |\n|0|Init|7|0|0|0|0|\n|1|1. y1 = 1|7|0|0|0|1|\n|2|2. r1 = x1 - 3|7|0|4|0|1|\n|3|3. JPOS(r1, 5)|7|0|4|0|1|\n|4|5. r0 = 2|7|2|4|0|1|\n|5|6. r1,r2 = DIVMOD(x1,r0)|7|2|3|1|1|\n|6|7. JZERO(r2, 11)|7|2|3|1|1|\n|7|8. r0 = r0 + 1|7|3|3|1|1|\n|8|9. JE(r0, x1, 12)|7|3|3|1|1|\n|9|10. JUMP(6)|7|3|3|1|1|\n|10|6. r1,r2 = DIVMOD(x1,r0)|7|3|2|1|1|\n|11|7. JZERO(r2, 11)|7|3|2|1|1|\n|12|8. r0 = r0 + 1|7|4|2|1|1|\n|13|9. JE(r0, x1, 12)|7|4|2|1|1|\n|14|10. JUMP(6)|7|4|2|1|1|\n|15|6. r1,r2 = DIVMOD(x1,r0)|7|4|1|3|1|\n|16|7. JZERO(r2, 11)|7|4|1|3|1|\n|17|8. r0 = r0 + 1|7|5|1|3|1|\n|18|9. JE(r0, x1, 12)|7|5|1|3|1|\n|19|10. JUMP(6)|7|5|1|3|1|\n|20|6. r1,r2 = DIVMOD(x1,r0)|7|5|1|2|1|\n|21|7. JZERO(r2, 11)|7|5|1|2|1|\n|22|8. r0 = r0 + 1|7|6|1|2|1|\n|23|9. JE(r0, x1, 12)|7|6|1|2|1|\n|24|10. JUMP(6)|7|6|1|2|1|\n|25|6. r1,r2 = DIVMOD(x1,r0)|7|6|1|1|1|\n|26|7. JZERO(r2, 11)|7|6|1|1|1|\n|27|8. r0 = r0 + 1|7|7|1|1|1|\n|28|9. JE(r0, x1, 12)|7|7|1|1|1|\n|29|12. HALT|7|7|1|1|1|"
          },
          "metadata": {}
        }
      ],
      "source": [
        "display_table(PRIME, 7)"
      ]
    },
    {
      "cell_type": "code",
      "execution_count": 11,
      "metadata": {
        "id": "CrPEcKr8_bbR",
        "colab": {
          "base_uri": "https://localhost:8080/",
          "height": 372
        },
        "outputId": "aebf4ad4-8d64-46a7-d3a1-d2f1a4b43b40"
      },
      "outputs": [
        {
          "output_type": "display_data",
          "data": {
            "text/plain": [
              "<IPython.core.display.Markdown object>"
            ],
            "text/markdown": "| Frame |  Instruction | x1 | x2 | r1 | r2 | r3 | y1 | y2 |\n| :-- | :-- | :-: | :-: | :-: | :-: | :-: | :-: | :-: |\n|0|Init|5|2|0|0|0|0|0|\n|1|1. r1 = x1|5|2|5|0|0|0|0|\n|2|2. r2 = x2|5|2|5|2|0|0|0|\n|3|3. JZERO(r1, 9)|5|2|5|2|0|0|0|\n|4|4. r3 = 1|5|2|5|2|1|0|0|\n|5|5. JZERO(r2, 14)|5|2|5|2|1|0|0|\n|6|6. r3 = r3 * r1|5|2|5|2|5|0|0|\n|7|7. r2 = r2 - 1|5|2|5|1|5|0|0|\n|8|8. JUMP(5)|5|2|5|1|5|0|0|\n|9|5. JZERO(r2, 14)|5|2|5|1|5|0|0|\n|10|6. r3 = r3 * r1|5|2|5|1|25|0|0|\n|11|7. r2 = r2 - 1|5|2|5|0|25|0|0|\n|12|8. JUMP(5)|5|2|5|0|25|0|0|\n|13|5. JZERO(r2, 14)|5|2|5|0|25|0|0|\n|14|14. y1 = r3|5|2|5|0|25|25|0|\n|15|15. HALT|5|2|5|0|25|25|0|"
          },
          "metadata": {}
        }
      ],
      "source": [
        "display_table(EXP, 5, 2)"
      ]
    },
    {
      "cell_type": "code",
      "execution_count": 12,
      "metadata": {
        "colab": {
          "base_uri": "https://localhost:8080/",
          "height": 518
        },
        "id": "Uo_-dmoZ_bbR",
        "outputId": "4c80ff63-0cb0-4d8c-9f3e-5f00381ba626"
      },
      "outputs": [
        {
          "output_type": "display_data",
          "data": {
            "text/plain": [
              "<IPython.core.display.Markdown object>"
            ],
            "text/markdown": "| Frame |  Instruction | x1 | x2 | r0 | r1 | r2 | r3 | y1 | y2 |\n| :-- | :-- | :-: | :-: | :-: | :-: | :-: | :-: | :-: | :-: |\n|0|Init|18|5|0|0|0|0|0|0|\n|1|1. r1 = x1|18|5|0|18|0|0|0|0|\n|2|2. r2 = x2|18|5|0|18|5|0|0|0|\n|3|3. r0 = r2 - r1|18|5|-13|18|5|0|0|0|\n|4|4. JPOS(r0, 8)|18|5|-13|18|5|0|0|0|\n|5|5. r3 = r3 + 1|18|5|-13|18|5|1|0|0|\n|6|6. r1 = r1 - r2|18|5|-13|13|5|1|0|0|\n|7|7. JUMP(3)|18|5|-13|13|5|1|0|0|\n|8|3. r0 = r2 - r1|18|5|-8|13|5|1|0|0|\n|9|4. JPOS(r0, 8)|18|5|-8|13|5|1|0|0|\n|10|5. r3 = r3 + 1|18|5|-8|13|5|2|0|0|\n|11|6. r1 = r1 - r2|18|5|-8|8|5|2|0|0|\n|12|7. JUMP(3)|18|5|-8|8|5|2|0|0|\n|13|3. r0 = r2 - r1|18|5|-3|8|5|2|0|0|\n|14|4. JPOS(r0, 8)|18|5|-3|8|5|2|0|0|\n|15|5. r3 = r3 + 1|18|5|-3|8|5|3|0|0|\n|16|6. r1 = r1 - r2|18|5|-3|3|5|3|0|0|\n|17|7. JUMP(3)|18|5|-3|3|5|3|0|0|\n|18|3. r0 = r2 - r1|18|5|2|3|5|3|0|0|\n|19|4. JPOS(r0, 8)|18|5|2|3|5|3|0|0|\n|20|8. y1 = r3|18|5|2|3|5|3|3|0|\n|21|9. y2 = r1|18|5|2|3|5|3|3|3|\n|22|10. HALT|18|5|2|3|5|3|3|3|"
          },
          "metadata": {}
        }
      ],
      "source": [
        "display_table(DIVMOD, 18, 5)"
      ]
    },
    {
      "cell_type": "markdown",
      "source": [
        "## Example: An algorithm for computing the Greatest Common Divisor - GCD\n",
        "* The following RAM program shows how we can code Euclid's GCD algorithm\n",
        "  within the limited bound of the RAP program syntax.\n",
        "* It is not fully complete, as it avoids checking zero division issues."
      ],
      "metadata": {
        "id": "z6PafWwFEiuK"
      }
    },
    {
      "cell_type": "code",
      "source": [
        "code = \"\"\"\n",
        "PROGRAM GCD(x1, x2 : y1)\n",
        "    1. r1 = x1\n",
        "    2. r2 = x2\n",
        "    3. JZERO(r1, 11)\n",
        "    4. JZERO(r2, 13)\n",
        "    5. r0 = r1 - r2\n",
        "    6. JPOS(r0, 15)\n",
        "    7. r0 = r2 - r1\n",
        "    8. JPOS(r0, 17)\n",
        "    9. y1 = r1\n",
        "    10. HALT\n",
        "    11. y1 = r2\n",
        "    12. HALT\n",
        "    13. y1 = r1\n",
        "    14. HALT\n",
        "    15. r3, r1 = DIVMOD(r1, r2)\n",
        "    16. JUMP(3)\n",
        "    17. r3, r2 = DIVMOD(r2, r1)\n",
        "    18. JUMP(4)\n",
        "    19. HALT\n",
        "\"\"\""
      ],
      "metadata": {
        "id": "-sqGSYf9EWuZ"
      },
      "execution_count": 13,
      "outputs": []
    },
    {
      "cell_type": "code",
      "source": [
        "GCD = Ram(\"GCD\", code)"
      ],
      "metadata": {
        "id": "-9hwzefyFjSA"
      },
      "execution_count": 14,
      "outputs": []
    },
    {
      "cell_type": "code",
      "source": [
        "y = GCD(72,54)\n",
        "print(f\"The greatest common divisor of 72 and 54 is {y}\")"
      ],
      "metadata": {
        "colab": {
          "base_uri": "https://localhost:8080/"
        },
        "id": "T7l7Y8ELFrIe",
        "outputId": "ae57a87f-a8c4-4f00-a5e4-db58592fe046"
      },
      "execution_count": 15,
      "outputs": [
        {
          "output_type": "stream",
          "name": "stdout",
          "text": [
            "The greatest common divisor of 72 and 54 is 18\n"
          ]
        }
      ]
    },
    {
      "cell_type": "code",
      "execution_count": 16,
      "metadata": {
        "id": "tBBL85fS_bbS"
      },
      "outputs": [],
      "source": [
        "code = \"\"\"\n",
        "PROGRAM MAX4(x1, x2, x3, x4 : y1)\n",
        "    1. y1 = x1\n",
        "    2. r0 = y1 - x2\n",
        "    3. JPOS(r0,5)\n",
        "    4. y1 = x2\n",
        "    5. r0 = y1 - x3\n",
        "    6. JPOS(r0,8)\n",
        "    7. y1 = x3\n",
        "    8. r0 = y1 - x4\n",
        "    9. JPOS(r0,11)\n",
        "    10. y1 = x4\n",
        "    11. HALT\n",
        "\n",
        "\"\"\""
      ]
    },
    {
      "cell_type": "code",
      "execution_count": 17,
      "metadata": {
        "id": "k9Fxlvg7_bbS"
      },
      "outputs": [],
      "source": [
        "MAX4 = Ram(\"MAX4\", code)"
      ]
    },
    {
      "cell_type": "code",
      "execution_count": 18,
      "metadata": {
        "colab": {
          "base_uri": "https://localhost:8080/"
        },
        "id": "hLn_GdlO_bbT",
        "outputId": "20845d19-f3bc-4427-d9cb-05e656e3f2ee"
      },
      "outputs": [
        {
          "output_type": "execute_result",
          "data": {
            "text/plain": [
              "26"
            ]
          },
          "metadata": {},
          "execution_count": 18
        }
      ],
      "source": [
        "MAX4(2, 26, 9, 4)"
      ]
    },
    {
      "cell_type": "code",
      "execution_count": 19,
      "metadata": {
        "id": "ssvNYNMrtlSS"
      },
      "outputs": [],
      "source": [
        "code1 = \"\"\"\n",
        "PROGRAM GETBIT(x1, x2 : y1)\n",
        "    1. r1 = x1\n",
        "    2. r2 = x2\n",
        "    3. r1,r0 = DIVMOD(r1, 2)\n",
        "    4. JZERO(r2, 7)\n",
        "    5. r2 = r2 -1\n",
        "    6. JUMP(3)\n",
        "    7. y1 = r0\n",
        "    8. HALT\n",
        "\"\"\""
      ]
    },
    {
      "cell_type": "code",
      "execution_count": 20,
      "metadata": {
        "id": "uwNo1cak_bbT"
      },
      "outputs": [],
      "source": [
        "code2 = \"\"\"\n",
        "PROGRAM SETBIT(x1, x2, x3 : y1)\n",
        "    1. r0 = GETBIT(x1, x2)\n",
        "    2. JE(r0, x3, 9)\n",
        "    3. r1,r2 = EXP(2, x2)\n",
        "    4. JPOS(x3, 7)\n",
        "    5. y1 = x1 - r1\n",
        "    6. HALT\n",
        "    7. y1 = x1 + r1\n",
        "    8. HALT\n",
        "    9. y1 = x1\n",
        "    10. HALT\n",
        "\"\"\""
      ]
    },
    {
      "cell_type": "code",
      "execution_count": 21,
      "metadata": {
        "id": "QqMtOmQf_bbT"
      },
      "outputs": [],
      "source": [
        "GETBIT = Ram(\"GETBIT\", code1)\n",
        "SETBIT = Ram(\"SETBIT\", code2)"
      ]
    },
    {
      "cell_type": "code",
      "execution_count": 22,
      "metadata": {
        "id": "3KWMkxEb0fmA"
      },
      "outputs": [],
      "source": [
        "y1 = SETBIT(21, 2, 0)"
      ]
    },
    {
      "cell_type": "code",
      "execution_count": 23,
      "metadata": {
        "colab": {
          "base_uri": "https://localhost:8080/",
          "height": 185
        },
        "id": "wrpofD_G_bbU",
        "outputId": "fc353a9c-ce65-4d2a-b3cf-ace7b83e2f64"
      },
      "outputs": [
        {
          "output_type": "display_data",
          "data": {
            "text/plain": [
              "<IPython.core.display.Markdown object>"
            ],
            "text/markdown": "| Frame |  Instruction | x1 | x2 | x3 | r0 | r1 | r2 | y1 |\n| :-- | :-- | :-: | :-: | :-: | :-: | :-: | :-: | :-: |\n|0|Init|21|2|0|0|0|0|0|\n|1|1. r0 = GETBIT(x1, x2)|21|2|0|1|0|0|0|\n|2|2. JE(r0, x3, 9)|21|2|0|1|0|0|0|\n|3|3. r1,r2 = EXP(2, x2)|21|2|0|1|4|0|0|\n|4|4. JPOS(x3, 7)|21|2|0|1|4|0|0|\n|5|5. y1 = x1 - r1|21|2|0|1|4|0|17|\n|6|6. HALT|21|2|0|1|4|0|17|"
          },
          "metadata": {}
        }
      ],
      "source": [
        "display_table(SETBIT, 21, 2, 0)"
      ]
    },
    {
      "cell_type": "code",
      "execution_count": 23,
      "metadata": {
        "id": "-fZ_ChpJ_bbU"
      },
      "outputs": [],
      "source": []
    }
  ],
  "metadata": {
    "anaconda-cloud": {},
    "colab": {
      "provenance": [],
      "include_colab_link": true
    },
    "kernelspec": {
      "display_name": "Python 3 (ipykernel)",
      "language": "python",
      "name": "python3"
    },
    "language_info": {
      "codemirror_mode": {
        "name": "ipython",
        "version": 3
      },
      "file_extension": ".py",
      "mimetype": "text/x-python",
      "name": "python",
      "nbconvert_exporter": "python",
      "pygments_lexer": "ipython3",
      "version": "3.7.11"
    }
  },
  "nbformat": 4,
  "nbformat_minor": 0
}