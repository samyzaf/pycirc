{
  "cells": [
    {
      "cell_type": "markdown",
      "metadata": {
        "id": "view-in-github",
        "colab_type": "text"
      },
      "source": [
        "<a href=\"https://colab.research.google.com/github/samyzaf/pycirc/blob/main/pyrampl.ipynb\" target=\"_parent\"><img src=\"https://colab.research.google.com/assets/colab-badge.svg\" alt=\"Open In Colab\"/></a>"
      ]
    },
    {
      "cell_type": "markdown",
      "metadata": {
        "id": "ASc0nYpw6D40"
      },
      "source": [
        "# <font face=\"Arial\" size=6> PyRamcPl - Python Random Access Machine Programming Language </font>\n",
        "\n",
        "* <a href=\"https://github.com/samyzaf/pycircpl/blob/main/pyrampl.ipynb\">\n",
        "Link to the the Google Colaboratory notebook\n",
        "</a>\n",
        "\n",
        "  * The Google Colaboratory notebook has the advantage\n",
        "     that you can run PyRamPl code from it without having to\n",
        "     install PyCircPl or even Python on your local system.\n",
        "  * You first need to copy it to your google drive\n",
        "  * You can also download it to your local device and open it as\n",
        "     a Jupyter notebook (if you have it installed with your Python)."
      ]
    },
    {
      "cell_type": "markdown",
      "metadata": {
        "id": "re0JUU526D47"
      },
      "source": [
        "## Installing the PyRamPl package\n",
        "* The **PyRamPl** package can be installed on your local system by running the following command from the command line\n",
        "```\n",
        "pip install pyrampl\n",
        "```\n",
        "* Or you may try running one of the following commands from this notebook.\n",
        "* If you are running it from a Jupyter notebook on your local system, then it will be installed on your device.  "
      ]
    },
    {
      "cell_type": "code",
      "execution_count": null,
      "metadata": {
        "colab": {
          "base_uri": "https://localhost:8080/"
        },
        "id": "H8Trabf46D47",
        "outputId": "6a6e6c65-44a6-4eb3-8a29-8f5497f14587"
      },
      "outputs": [
        {
          "output_type": "stream",
          "name": "stdout",
          "text": [
            "Looking in indexes: https://pypi.org/simple, https://us-python.pkg.dev/colab-wheels/public/simple/\n",
            "Requirement already satisfied: pyrampl in /usr/local/lib/python3.7/dist-packages (1.1)\n"
          ]
        }
      ],
      "source": [
        "# To install from this notebook, run this cell.\n",
        "%pip install pyrampl\n",
        "# This should also work:\n",
        "#!pip install --upgrade pyrampl\n",
        "\n",
        "# After installation, you have to restart this notebook.\n",
        "# Make sure to comment the %pip or !pip lines above to avoid reinstall each time you run this notebook.\n",
        "\n",
        "# To uninstall the package use:\n",
        "#%pip uninstall pyrampl\n",
        "# or\n",
        "#!pip uninstall pyrampl"
      ]
    },
    {
      "cell_type": "markdown",
      "metadata": {
        "id": "5hIXG9SE6D48"
      },
      "source": [
        "* **After installation, you may need to restart this notebook.**"
      ]
    },
    {
      "cell_type": "markdown",
      "metadata": {
        "id": "kD35YCtJ6D4-"
      },
      "source": [
        "## Introduction\n",
        "\n",
        "* **PyRamPl** is a simple Python package for simulating\n",
        "  Random Access Memory Machine programs within the context of an introductory course on computational models.\n",
        "* It is a lightweight package especially designed for\n",
        "  small RAM programs, such as those that are presented\n",
        "  in introductory academic courses on the theory of computation.\n",
        "* It can be a useful companion for theoretical courses on\n",
        "  computation models and languages who wish also to engage\n",
        "  the students with some programming experience and skills.\n",
        "  * It was designed to be used in such a course by the author\n",
        "    (Hebrew book at http://samyzaf.com/afl.pdf).\n",
        "  * It enables students to easily experiment with RAM programs for their exercises,\n",
        "    and to test correctness of their solutions.\n",
        "* It also provide an opportunity for students to get a taste of how programming looks like\n",
        "  while learning theoretical computation course.\n",
        "* There are many different definitions of a RAM machine in the literature but from an educational\n",
        "  perspective most of them are adequate for presenting a computational model resembling a modern computer system\n",
        "  and its associated assembly programming language.\n",
        "* WARNING! Our current very early version of **PyRamPl** is not\n",
        "  making good syntactical checks, so make sure to write your\n",
        "  programs correctly or else you will not get any meaningful feedback."
      ]
    },
    {
      "cell_type": "markdown",
      "metadata": {
        "id": "Dx-Ax1MDAGRb"
      },
      "source": [
        "## RAM machince program Syntax\n",
        "\n",
        "|RAM Command &nbsp;&nbsp; | Description |\n",
        "| :------ | :---------- |\n",
        "| $a=b$       | load register b to a|\n",
        "| $a=i$       | Load integer i to register a|\n",
        "| $a = b+c$   | Add b and c and load result to a|\n",
        "| $a=b-c$     | Subtraction |\n",
        "| $a = b * c$ | Multiplication |\n",
        "| JUMP(i)     | Jump to command i (PC = i)|\n",
        "| JZERO(r, i)  | If r=0 jump to command i|\n",
        "| JPOS(r, i)  | If r>0 jump to command i|\n",
        "| JE(a, b, i) | If a=b jump to command i|\n",
        "| HALT        | Stop the program |\n",
        "\n",
        "##Example: DIVMOD program\n",
        "The following RAM program computes the integer quotient\n",
        "  and a remainder ($y_1$ and $y_2$)\n",
        "  after dividing $x_1$ by $x_2$\n",
        "```\n",
        "PROGRAM DIVMOD(x1, x2 : y1, y2)\n",
        "    1. r1 = x1\n",
        "    2. r2 = x2\n",
        "    3. r0 = r2 - r1\n",
        "    4. JPOS(r0, 8)\n",
        "    5. r3 = r3 + 1\n",
        "    6. r1 = r1 - r2\n",
        "    7. JUMP(3)\n",
        "    8. y1 = r3\n",
        "    9. y2 = r1\n",
        "    10. HALT\n",
        "\n",
        "```"
      ]
    },
    {
      "cell_type": "markdown",
      "metadata": {
        "id": "rlDvlU9I6D48"
      },
      "source": [
        "## Loading the PyRamPl package\n",
        "* After installing the **PyRamPl** package, you need to import\n",
        "  it.  \n",
        "* The following command imports **PyRamPl** to your Python interpreter."
      ]
    },
    {
      "cell_type": "code",
      "execution_count": null,
      "metadata": {
        "id": "ZaIr21bT6D49"
      },
      "outputs": [],
      "source": [
        "from pyrampl import *\n",
        "from IPython.display import display, Markdown, Latex"
      ]
    },
    {
      "cell_type": "code",
      "source": [
        "divmod = \"\"\"\n",
        "PROGRAM DIVMOD(x1, x2 : y1, y2)\n",
        "    1. r1 = x1\n",
        "    2. r2 = x2\n",
        "    3. r0 = r2 - r1\n",
        "    4. JPOS(r0, 8)\n",
        "    5. r3 = r3 + 1\n",
        "    6. r1 = r1 - r2\n",
        "    7. JUMP(3)\n",
        "    8. y1 = r3\n",
        "    9. y2 = r1\n",
        "    10. HALT\n",
        "\"\"\""
      ],
      "metadata": {
        "id": "bK2muCq_Ij9f"
      },
      "execution_count": null,
      "outputs": []
    },
    {
      "cell_type": "code",
      "source": [
        "DIVMOD = Ram(\"DIVMOD\", divmod)"
      ],
      "metadata": {
        "id": "CjuZY24hI4Zg"
      },
      "execution_count": null,
      "outputs": []
    },
    {
      "cell_type": "code",
      "source": [
        "y1, y2 = DIVMOD(28,5)\n",
        "print(y1,y2)"
      ],
      "metadata": {
        "colab": {
          "base_uri": "https://localhost:8080/"
        },
        "id": "XmYGfYc3JYlf",
        "outputId": "ac478352-5067-441a-c66f-713304e0bf08"
      },
      "execution_count": null,
      "outputs": [
        {
          "output_type": "stream",
          "name": "stdout",
          "text": [
            "5 3\n"
          ]
        }
      ]
    },
    {
      "cell_type": "code",
      "source": [
        "exp = \"\"\"\n",
        "PROGRAM EXP(x1, x2 : y1, y2)\n",
        "    1. r1 = x1\n",
        "    2. r2 = x2\n",
        "    3. JZERO(r1, 9)\n",
        "    4. r3 = 1\n",
        "    5. JZERO(r2, 14)\n",
        "    6. r3 = r3 * r1\n",
        "    7. r2 = r2 - 1\n",
        "    8. JUMP(5)\n",
        "    9. JZERO(r2, 12)\n",
        "    10. y1 = 0\n",
        "    11. JUMP(15)\n",
        "    12. y2 = 1\n",
        "    13. JUMP(15)\n",
        "    14. y1 = r3\n",
        "    15. HALT\n",
        "\"\"\""
      ],
      "metadata": {
        "id": "fVnx2DADy85w"
      },
      "execution_count": null,
      "outputs": []
    },
    {
      "cell_type": "code",
      "source": [
        "EXP = Ram(\"EXP\", exp)"
      ],
      "metadata": {
        "id": "fatry-XEzEXn"
      },
      "execution_count": null,
      "outputs": []
    },
    {
      "cell_type": "code",
      "source": [
        "prime = \"\"\"\n",
        "PROGRAM PRIME(x1 : y1)\n",
        "    1. y1 = 1\n",
        "    2. r1 = x1 - 3\n",
        "    3. JPOS(r1, 5)\n",
        "    4. HALT\n",
        "    5. r0 = 2\n",
        "    6. r1,r2 = DIVMOD(x1,r0)\n",
        "    7. JZERO(r2, 11)\n",
        "    8. r0 = r0 + 1\n",
        "    9. JE(r0, x1, 12)\n",
        "    10. JUMP(6)\n",
        "    11. y1 = 0\n",
        "    12. HALT\n",
        "\"\"\""
      ],
      "metadata": {
        "id": "3i6IvOLGJsdm"
      },
      "execution_count": null,
      "outputs": []
    },
    {
      "cell_type": "code",
      "execution_count": null,
      "metadata": {
        "colab": {
          "base_uri": "https://localhost:8080/"
        },
        "id": "MYjXVl5m_bbP",
        "outputId": "da05d859-2f65-4009-bd42-d44f8aba70f5"
      },
      "outputs": [
        {
          "output_type": "stream",
          "name": "stdout",
          "text": [
            "y=1\n"
          ]
        }
      ],
      "source": [
        "PRIME = Ram(\"PRIME\", prime)\n",
        "y = PRIME(19)\n",
        "print(f\"y={y}\")"
      ]
    },
    {
      "cell_type": "code",
      "execution_count": null,
      "metadata": {
        "colab": {
          "base_uri": "https://localhost:8080/",
          "height": 1000
        },
        "id": "UcZ1JoPz_bbQ",
        "outputId": "7bea661b-2c1b-423b-c24a-70c864523e47"
      },
      "outputs": [
        {
          "output_type": "display_data",
          "data": {
            "text/plain": [
              "<IPython.core.display.Markdown object>"
            ],
            "text/markdown": "| Frame |  Instruction | x1 | r0 | r1 | r2 | y1 |\n| :-- | :-- | :-: | :-: | :-: | :-: | :-: |\n|0|Init|37|0|0|0|0|\n|1|1. y1 = 1|37|0|0|0|1|\n|2|2. r1 = x1 - 3|37|0|34|0|1|\n|3|3. JPOS(r1, 5)|37|0|34|0|1|\n|4|5. r0 = 2|37|2|34|0|1|\n|5|6. r1,r2 = DIVMOD(x1,r0)|37|2|18|1|1|\n|6|7. JZERO(r2, 11)|37|2|18|1|1|\n|7|8. r0 = r0 + 1|37|3|18|1|1|\n|8|9. JE(r0, x1, 12)|37|3|18|1|1|\n|9|10. JUMP(6)|37|3|18|1|1|\n|10|6. r1,r2 = DIVMOD(x1,r0)|37|3|12|1|1|\n|11|7. JZERO(r2, 11)|37|3|12|1|1|\n|12|8. r0 = r0 + 1|37|4|12|1|1|\n|13|9. JE(r0, x1, 12)|37|4|12|1|1|\n|14|10. JUMP(6)|37|4|12|1|1|\n|15|6. r1,r2 = DIVMOD(x1,r0)|37|4|9|1|1|\n|16|7. JZERO(r2, 11)|37|4|9|1|1|\n|17|8. r0 = r0 + 1|37|5|9|1|1|\n|18|9. JE(r0, x1, 12)|37|5|9|1|1|\n|19|10. JUMP(6)|37|5|9|1|1|\n|20|6. r1,r2 = DIVMOD(x1,r0)|37|5|7|2|1|\n|21|7. JZERO(r2, 11)|37|5|7|2|1|\n|22|8. r0 = r0 + 1|37|6|7|2|1|\n|23|9. JE(r0, x1, 12)|37|6|7|2|1|\n|24|10. JUMP(6)|37|6|7|2|1|\n|25|6. r1,r2 = DIVMOD(x1,r0)|37|6|6|1|1|\n|26|7. JZERO(r2, 11)|37|6|6|1|1|\n|27|8. r0 = r0 + 1|37|7|6|1|1|\n|28|9. JE(r0, x1, 12)|37|7|6|1|1|\n|29|10. JUMP(6)|37|7|6|1|1|\n|30|6. r1,r2 = DIVMOD(x1,r0)|37|7|5|2|1|\n|31|7. JZERO(r2, 11)|37|7|5|2|1|\n|32|8. r0 = r0 + 1|37|8|5|2|1|\n|33|9. JE(r0, x1, 12)|37|8|5|2|1|\n|34|10. JUMP(6)|37|8|5|2|1|\n|35|6. r1,r2 = DIVMOD(x1,r0)|37|8|4|5|1|\n|36|7. JZERO(r2, 11)|37|8|4|5|1|\n|37|8. r0 = r0 + 1|37|9|4|5|1|\n|38|9. JE(r0, x1, 12)|37|9|4|5|1|\n|39|10. JUMP(6)|37|9|4|5|1|\n|40|6. r1,r2 = DIVMOD(x1,r0)|37|9|4|1|1|\n|41|7. JZERO(r2, 11)|37|9|4|1|1|\n|42|8. r0 = r0 + 1|37|10|4|1|1|\n|43|9. JE(r0, x1, 12)|37|10|4|1|1|\n|44|10. JUMP(6)|37|10|4|1|1|\n|45|6. r1,r2 = DIVMOD(x1,r0)|37|10|3|7|1|\n|46|7. JZERO(r2, 11)|37|10|3|7|1|\n|47|8. r0 = r0 + 1|37|11|3|7|1|\n|48|9. JE(r0, x1, 12)|37|11|3|7|1|\n|49|10. JUMP(6)|37|11|3|7|1|\n|50|6. r1,r2 = DIVMOD(x1,r0)|37|11|3|4|1|\n|51|7. JZERO(r2, 11)|37|11|3|4|1|\n|52|8. r0 = r0 + 1|37|12|3|4|1|\n|53|9. JE(r0, x1, 12)|37|12|3|4|1|\n|54|10. JUMP(6)|37|12|3|4|1|\n|55|6. r1,r2 = DIVMOD(x1,r0)|37|12|3|1|1|\n|56|7. JZERO(r2, 11)|37|12|3|1|1|\n|57|8. r0 = r0 + 1|37|13|3|1|1|\n|58|9. JE(r0, x1, 12)|37|13|3|1|1|\n|59|10. JUMP(6)|37|13|3|1|1|\n|60|6. r1,r2 = DIVMOD(x1,r0)|37|13|2|11|1|\n|61|7. JZERO(r2, 11)|37|13|2|11|1|\n|62|8. r0 = r0 + 1|37|14|2|11|1|\n|63|9. JE(r0, x1, 12)|37|14|2|11|1|\n|64|10. JUMP(6)|37|14|2|11|1|\n|65|6. r1,r2 = DIVMOD(x1,r0)|37|14|2|9|1|\n|66|7. JZERO(r2, 11)|37|14|2|9|1|\n|67|8. r0 = r0 + 1|37|15|2|9|1|\n|68|9. JE(r0, x1, 12)|37|15|2|9|1|\n|69|10. JUMP(6)|37|15|2|9|1|\n|70|6. r1,r2 = DIVMOD(x1,r0)|37|15|2|7|1|\n|71|7. JZERO(r2, 11)|37|15|2|7|1|\n|72|8. r0 = r0 + 1|37|16|2|7|1|\n|73|9. JE(r0, x1, 12)|37|16|2|7|1|\n|74|10. JUMP(6)|37|16|2|7|1|\n|75|6. r1,r2 = DIVMOD(x1,r0)|37|16|2|5|1|\n|76|7. JZERO(r2, 11)|37|16|2|5|1|\n|77|8. r0 = r0 + 1|37|17|2|5|1|\n|78|9. JE(r0, x1, 12)|37|17|2|5|1|\n|79|10. JUMP(6)|37|17|2|5|1|\n|80|6. r1,r2 = DIVMOD(x1,r0)|37|17|2|3|1|\n|81|7. JZERO(r2, 11)|37|17|2|3|1|\n|82|8. r0 = r0 + 1|37|18|2|3|1|\n|83|9. JE(r0, x1, 12)|37|18|2|3|1|\n|84|10. JUMP(6)|37|18|2|3|1|\n|85|6. r1,r2 = DIVMOD(x1,r0)|37|18|2|1|1|\n|86|7. JZERO(r2, 11)|37|18|2|1|1|\n|87|8. r0 = r0 + 1|37|19|2|1|1|\n|88|9. JE(r0, x1, 12)|37|19|2|1|1|\n|89|10. JUMP(6)|37|19|2|1|1|\n|90|6. r1,r2 = DIVMOD(x1,r0)|37|19|1|18|1|\n|91|7. JZERO(r2, 11)|37|19|1|18|1|\n|92|8. r0 = r0 + 1|37|20|1|18|1|\n|93|9. JE(r0, x1, 12)|37|20|1|18|1|\n|94|10. JUMP(6)|37|20|1|18|1|\n|95|6. r1,r2 = DIVMOD(x1,r0)|37|20|1|17|1|\n|96|7. JZERO(r2, 11)|37|20|1|17|1|\n|97|8. r0 = r0 + 1|37|21|1|17|1|\n|98|9. JE(r0, x1, 12)|37|21|1|17|1|\n|99|10. JUMP(6)|37|21|1|17|1|\n|100|6. r1,r2 = DIVMOD(x1,r0)|37|21|1|16|1|\n|101|7. JZERO(r2, 11)|37|21|1|16|1|\n|102|8. r0 = r0 + 1|37|22|1|16|1|\n|103|9. JE(r0, x1, 12)|37|22|1|16|1|\n|104|10. JUMP(6)|37|22|1|16|1|\n|105|6. r1,r2 = DIVMOD(x1,r0)|37|22|1|15|1|\n|106|7. JZERO(r2, 11)|37|22|1|15|1|\n|107|8. r0 = r0 + 1|37|23|1|15|1|\n|108|9. JE(r0, x1, 12)|37|23|1|15|1|\n|109|10. JUMP(6)|37|23|1|15|1|\n|110|6. r1,r2 = DIVMOD(x1,r0)|37|23|1|14|1|\n|111|7. JZERO(r2, 11)|37|23|1|14|1|\n|112|8. r0 = r0 + 1|37|24|1|14|1|\n|113|9. JE(r0, x1, 12)|37|24|1|14|1|\n|114|10. JUMP(6)|37|24|1|14|1|\n|115|6. r1,r2 = DIVMOD(x1,r0)|37|24|1|13|1|\n|116|7. JZERO(r2, 11)|37|24|1|13|1|\n|117|8. r0 = r0 + 1|37|25|1|13|1|\n|118|9. JE(r0, x1, 12)|37|25|1|13|1|\n|119|10. JUMP(6)|37|25|1|13|1|\n|120|6. r1,r2 = DIVMOD(x1,r0)|37|25|1|12|1|\n|121|7. JZERO(r2, 11)|37|25|1|12|1|\n|122|8. r0 = r0 + 1|37|26|1|12|1|\n|123|9. JE(r0, x1, 12)|37|26|1|12|1|\n|124|10. JUMP(6)|37|26|1|12|1|\n|125|6. r1,r2 = DIVMOD(x1,r0)|37|26|1|11|1|\n|126|7. JZERO(r2, 11)|37|26|1|11|1|\n|127|8. r0 = r0 + 1|37|27|1|11|1|\n|128|9. JE(r0, x1, 12)|37|27|1|11|1|\n|129|10. JUMP(6)|37|27|1|11|1|\n|130|6. r1,r2 = DIVMOD(x1,r0)|37|27|1|10|1|\n|131|7. JZERO(r2, 11)|37|27|1|10|1|\n|132|8. r0 = r0 + 1|37|28|1|10|1|\n|133|9. JE(r0, x1, 12)|37|28|1|10|1|\n|134|10. JUMP(6)|37|28|1|10|1|\n|135|6. r1,r2 = DIVMOD(x1,r0)|37|28|1|9|1|\n|136|7. JZERO(r2, 11)|37|28|1|9|1|\n|137|8. r0 = r0 + 1|37|29|1|9|1|\n|138|9. JE(r0, x1, 12)|37|29|1|9|1|\n|139|10. JUMP(6)|37|29|1|9|1|\n|140|6. r1,r2 = DIVMOD(x1,r0)|37|29|1|8|1|\n|141|7. JZERO(r2, 11)|37|29|1|8|1|\n|142|8. r0 = r0 + 1|37|30|1|8|1|\n|143|9. JE(r0, x1, 12)|37|30|1|8|1|\n|144|10. JUMP(6)|37|30|1|8|1|\n|145|6. r1,r2 = DIVMOD(x1,r0)|37|30|1|7|1|\n|146|7. JZERO(r2, 11)|37|30|1|7|1|\n|147|8. r0 = r0 + 1|37|31|1|7|1|\n|148|9. JE(r0, x1, 12)|37|31|1|7|1|\n|149|10. JUMP(6)|37|31|1|7|1|\n|150|6. r1,r2 = DIVMOD(x1,r0)|37|31|1|6|1|\n|151|7. JZERO(r2, 11)|37|31|1|6|1|\n|152|8. r0 = r0 + 1|37|32|1|6|1|\n|153|9. JE(r0, x1, 12)|37|32|1|6|1|\n|154|10. JUMP(6)|37|32|1|6|1|\n|155|6. r1,r2 = DIVMOD(x1,r0)|37|32|1|5|1|\n|156|7. JZERO(r2, 11)|37|32|1|5|1|\n|157|8. r0 = r0 + 1|37|33|1|5|1|\n|158|9. JE(r0, x1, 12)|37|33|1|5|1|\n|159|10. JUMP(6)|37|33|1|5|1|\n|160|6. r1,r2 = DIVMOD(x1,r0)|37|33|1|4|1|\n|161|7. JZERO(r2, 11)|37|33|1|4|1|\n|162|8. r0 = r0 + 1|37|34|1|4|1|\n|163|9. JE(r0, x1, 12)|37|34|1|4|1|\n|164|10. JUMP(6)|37|34|1|4|1|\n|165|6. r1,r2 = DIVMOD(x1,r0)|37|34|1|3|1|\n|166|7. JZERO(r2, 11)|37|34|1|3|1|\n|167|8. r0 = r0 + 1|37|35|1|3|1|\n|168|9. JE(r0, x1, 12)|37|35|1|3|1|\n|169|10. JUMP(6)|37|35|1|3|1|\n|170|6. r1,r2 = DIVMOD(x1,r0)|37|35|1|2|1|\n|171|7. JZERO(r2, 11)|37|35|1|2|1|\n|172|8. r0 = r0 + 1|37|36|1|2|1|\n|173|9. JE(r0, x1, 12)|37|36|1|2|1|\n|174|10. JUMP(6)|37|36|1|2|1|\n|175|6. r1,r2 = DIVMOD(x1,r0)|37|36|1|1|1|\n|176|7. JZERO(r2, 11)|37|36|1|1|1|\n|177|8. r0 = r0 + 1|37|37|1|1|1|\n|178|9. JE(r0, x1, 12)|37|37|1|1|1|\n|179|12. HALT|37|37|1|1|1|"
          },
          "metadata": {}
        }
      ],
      "source": [
        "display_table(PRIME, 37)"
      ]
    },
    {
      "cell_type": "code",
      "execution_count": null,
      "metadata": {
        "colab": {
          "base_uri": "https://localhost:8080/",
          "height": 218
        },
        "id": "X-zHJid7_bbR",
        "outputId": "d49c4800-073f-4b22-af4e-1162743e9000"
      },
      "outputs": [
        {
          "output_type": "error",
          "ename": "FileNotFoundError",
          "evalue": "ignored",
          "traceback": [
            "\u001b[0;31m---------------------------------------------------------------------------\u001b[0m",
            "\u001b[0;31mFileNotFoundError\u001b[0m                         Traceback (most recent call last)",
            "\u001b[0;32m<ipython-input-9-a4da97257b12>\u001b[0m in \u001b[0;36m<module>\u001b[0;34m\u001b[0m\n\u001b[0;32m----> 1\u001b[0;31m \u001b[0mfd\u001b[0m \u001b[0;34m=\u001b[0m \u001b[0mopen\u001b[0m\u001b[0;34m(\u001b[0m\u001b[0;34m\"out.tex\"\u001b[0m\u001b[0;34m)\u001b[0m\u001b[0;34m\u001b[0m\u001b[0;34m\u001b[0m\u001b[0m\n\u001b[0m\u001b[1;32m      2\u001b[0m \u001b[0mtable\u001b[0m \u001b[0;34m=\u001b[0m \u001b[0mfd\u001b[0m\u001b[0;34m.\u001b[0m\u001b[0mread\u001b[0m\u001b[0;34m(\u001b[0m\u001b[0;34m)\u001b[0m\u001b[0;34m\u001b[0m\u001b[0;34m\u001b[0m\u001b[0m\n\u001b[1;32m      3\u001b[0m \u001b[0mfd\u001b[0m\u001b[0;34m.\u001b[0m\u001b[0mclose\u001b[0m\u001b[0;34m(\u001b[0m\u001b[0;34m)\u001b[0m\u001b[0;34m\u001b[0m\u001b[0;34m\u001b[0m\u001b[0m\n\u001b[1;32m      4\u001b[0m \u001b[0mdisplay\u001b[0m\u001b[0;34m(\u001b[0m\u001b[0mLatex\u001b[0m\u001b[0;34m(\u001b[0m\u001b[0mtable\u001b[0m\u001b[0;34m)\u001b[0m\u001b[0;34m)\u001b[0m\u001b[0;34m\u001b[0m\u001b[0;34m\u001b[0m\u001b[0m\n",
            "\u001b[0;31mFileNotFoundError\u001b[0m: [Errno 2] No such file or directory: 'out.tex'"
          ]
        }
      ],
      "source": [
        "fd = open(\"out.tex\")\n",
        "table = fd.read()\n",
        "fd.close()\n",
        "display(Latex(table))"
      ]
    },
    {
      "cell_type": "code",
      "execution_count": null,
      "metadata": {
        "id": "CrPEcKr8_bbR"
      },
      "outputs": [],
      "source": [
        "import os"
      ]
    },
    {
      "cell_type": "code",
      "execution_count": null,
      "metadata": {
        "colab": {
          "base_uri": "https://localhost:8080/",
          "height": 35
        },
        "id": "Uo_-dmoZ_bbR",
        "outputId": "58a19efe-ba32-4e70-f2fa-50daed3eeb93"
      },
      "outputs": [
        {
          "output_type": "execute_result",
          "data": {
            "text/plain": [
              "'/content'"
            ],
            "application/vnd.google.colaboratory.intrinsic+json": {
              "type": "string"
            }
          },
          "metadata": {},
          "execution_count": 11
        }
      ],
      "source": [
        "os.getcwd()"
      ]
    },
    {
      "cell_type": "code",
      "execution_count": null,
      "metadata": {
        "id": "tBBL85fS_bbS"
      },
      "outputs": [],
      "source": [
        "prog = \"\"\"\n",
        "PROGRAM MAX4(x1, x2, x3, x4 : y1)\n",
        "    1. y1 = x1\n",
        "    2. r0 = y1 - x2\n",
        "    3. JPOS(r0,5)\n",
        "    4. y1 = x2\n",
        "    5. r0 = y1 - x3\n",
        "    6. JPOS(r0,8)\n",
        "    7. y1 = x3\n",
        "    8. r0 = y1 - x4\n",
        "    9. JPOS(r0,11)\n",
        "    10. y1 = x4\n",
        "    11. HALT\n",
        "\n",
        "\"\"\""
      ]
    },
    {
      "cell_type": "code",
      "execution_count": null,
      "metadata": {
        "id": "k9Fxlvg7_bbS"
      },
      "outputs": [],
      "source": [
        "MAX4 = Ram(\"MAX4\", prog)"
      ]
    },
    {
      "cell_type": "code",
      "execution_count": null,
      "metadata": {
        "colab": {
          "base_uri": "https://localhost:8080/"
        },
        "id": "hLn_GdlO_bbT",
        "outputId": "1fb6727b-218d-4eda-89e8-2afd9990c33d"
      },
      "outputs": [
        {
          "output_type": "execute_result",
          "data": {
            "text/plain": [
              "26"
            ]
          },
          "metadata": {},
          "execution_count": 14
        }
      ],
      "source": [
        "MAX4(2,26,9,4)"
      ]
    },
    {
      "cell_type": "code",
      "source": [
        "getbit = \"\"\"\n",
        "PROGRAM GETBIT(x1, x2 : y1)\n",
        "    1. r1 = x1\n",
        "    2. r2 = x2\n",
        "    3. r1,r0 = DIVMOD(r1, 2)\n",
        "    4. JZERO(r2, 7)\n",
        "    5. r2 = r2 -1\n",
        "    6. JUMP(3)\n",
        "    7. y1 = r0\n",
        "    8. HALT\n",
        "\"\"\""
      ],
      "metadata": {
        "id": "ssvNYNMrtlSS"
      },
      "execution_count": null,
      "outputs": []
    },
    {
      "cell_type": "code",
      "execution_count": null,
      "metadata": {
        "id": "uwNo1cak_bbT"
      },
      "outputs": [],
      "source": [
        "setbit = \"\"\"\n",
        "PROGRAM SETBIT(x1, x2, x3 : y1)\n",
        "    1. r0 = GETBIT(x1, x2)\n",
        "    2. JE(r0, x3, 9)\n",
        "    3. r1,r2 = EXP(2, x2)\n",
        "    4. JPOS(x3, 7)\n",
        "    5. y1 = x1 - r1\n",
        "    6. HALT\n",
        "    7. y1 = x1 + r1\n",
        "    8. HALT\n",
        "    9. y1 = x1\n",
        "    10. HALT\n",
        "\"\"\""
      ]
    },
    {
      "cell_type": "code",
      "execution_count": null,
      "metadata": {
        "id": "QqMtOmQf_bbT"
      },
      "outputs": [],
      "source": [
        "GETBIT = Ram(\"GETBIT\", getbit)\n",
        "SETBIT = Ram(\"SETBIT\", setbit)"
      ]
    },
    {
      "cell_type": "code",
      "source": [
        "y1 = SETBIT(21, 2, 0)"
      ],
      "metadata": {
        "id": "3KWMkxEb0fmA"
      },
      "execution_count": null,
      "outputs": []
    },
    {
      "cell_type": "code",
      "execution_count": null,
      "metadata": {
        "colab": {
          "base_uri": "https://localhost:8080/",
          "height": 185
        },
        "id": "wrpofD_G_bbU",
        "outputId": "015cc1df-05ff-4c1b-b6ba-7eeb3f48becf"
      },
      "outputs": [
        {
          "output_type": "display_data",
          "data": {
            "text/plain": [
              "<IPython.core.display.Markdown object>"
            ],
            "text/markdown": "| Frame |  Instruction | x1 | x2 | x3 | r0 | r1 | r2 | y1 |\n| :-- | :-- | :-: | :-: | :-: | :-: | :-: | :-: | :-: |\n|0|Init|21|2|0|0|0|0|0|\n|1|1. r0 = GETBIT(x1, x2)|21|2|0|1|0|0|0|\n|2|2. JE(r0, x3, 9)|21|2|0|1|0|0|0|\n|3|3. r1,r2 = EXP(2, x2)|21|2|0|1|4|0|0|\n|4|4. JPOS(x3, 7)|21|2|0|1|4|0|0|\n|5|5. y1 = x1 - r1|21|2|0|1|4|0|17|\n|6|6. HALT|21|2|0|1|4|0|17|"
          },
          "metadata": {}
        }
      ],
      "source": [
        "display_table(SETBIT, 21, 2, 0)"
      ]
    },
    {
      "cell_type": "code",
      "execution_count": null,
      "metadata": {
        "id": "-fZ_ChpJ_bbU"
      },
      "outputs": [],
      "source": []
    }
  ],
  "metadata": {
    "anaconda-cloud": {},
    "colab": {
      "collapsed_sections": [],
      "provenance": [],
      "include_colab_link": true
    },
    "kernelspec": {
      "display_name": "Python 3 (ipykernel)",
      "language": "python",
      "name": "python3"
    },
    "language_info": {
      "codemirror_mode": {
        "name": "ipython",
        "version": 3
      },
      "file_extension": ".py",
      "mimetype": "text/x-python",
      "name": "python",
      "nbconvert_exporter": "python",
      "pygments_lexer": "ipython3",
      "version": "3.7.11"
    }
  },
  "nbformat": 4,
  "nbformat_minor": 0
}